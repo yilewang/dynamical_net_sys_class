{
 "cells": [
  {
   "attachments": {},
   "cell_type": "markdown",
   "metadata": {},
   "source": [
    "\n",
    "### Lab2 Homework  \n",
    "Yile Wang  \n",
    "yxw190015  \n",
    "02/02/2023 "
   ]
  },
  {
   "attachments": {},
   "cell_type": "markdown",
   "metadata": {},
   "source": [
    "## Section 6.9 Degree:\n",
    "1. _Q: identify an example type of network of when it's a good thing to be a high degree node and an example of when it is a bad thing to be a high degree node in a network_ \n",
    "\n",
    "    A: good thing: in a small-scale network, high degree node will be more efficient to distribute information/resource to other nodes. For example, in a lab, everyone needs to report progress to PI, who is the node with high degree. The PI can guide PhD student directly and they can share the resource from other collaborators to their own PhD students. \n",
    "\n",
    "    A bad thing: in a giant computer network, if one server has to respond most of users' requests, and it also has to receive information from upper stream, it would be more vulnerable for potential attack, and it may lead to long waiting time to users within the network. "
   ]
  },
  {
   "attachments": {},
   "cell_type": "markdown",
   "metadata": {},
   "source": [
    "2. _Q: Describe or draw an example of a network in which a particular node has very few conections but it could be argued that it is a very important node. Justify your reasoning._ \n",
    "\n",
    "    A: I will illustrate it with my code below:\n",
    "    In my graph, `node1` only have one connection to `node2` but it's a very important node since it is the only in-degree for `node2`. The `node2` itself is a high degree node. Without input from `node1`, `node2` may be shut down. It could be understood as the **Engine** for a car. All the other nodes are dependent on the \"engine\" `node1`."
   ]
  },
  {
   "cell_type": "code",
   "execution_count": 1,
   "metadata": {},
   "outputs": [],
   "source": [
    "import networkx as nx\n",
    "import numpy as np"
   ]
  },
  {
   "cell_type": "code",
   "execution_count": 2,
   "metadata": {},
   "outputs": [
    {
     "data": {
      "image/png": "[encoded data removed]",
      "text/plain": [
       "<Figure size 640x480 with 1 Axes>"
      ]
     },
     "metadata": {},
     "output_type": "display_data"
    }
   ],
   "source": [
    "G = nx.DiGraph()\n",
    "G.add_edges_from([(1,2), (2,3), (2,4), (2,5), (2,6), (3,5), (5,6)])\n",
    "nx.draw(G, with_labels=True)"
   ]
  },
  {
   "attachments": {},
   "cell_type": "markdown",
   "metadata": {},
   "source": [
    "3. _Q: explain what equation (6.25) means. simpler way to explain what the two summations mean_  \n",
    "    A: The equation 6.25 is:\n",
    "    $$k^{in}_i = \\sum^n_{j=1}A_{ij}$$\n",
    "    $$k^{out}_j = \\sum^n_{i=1}A_{ij}$$\n",
    "\n",
    "\n",
    "The meanings of two equations are to count how many edges comes in to the `node_i` and how many edges comes out from `node_i`.\n"
   ]
  },
  {
   "attachments": {},
   "cell_type": "markdown",
   "metadata": {},
   "source": [
    "## Section 6.10-11: Paths & Components\n",
    "\n",
    "1. Write down the adjacency matrix `A`. \n",
    "$$\n",
    "\\begin{bmatrix}\n",
    "   0 & 0 & 0 & 0 & 0 \\\\\n",
    "   1 & 0 & 0 & 0 & 0 \\\\\n",
    "   1 & 1 & 0 & 0 & 0 \\\\\n",
    "   0 & 1 & 1 & 0 & 0 \\\\\n",
    "   0 & 0 & 1 & 1 & 0 \n",
    "\\end{bmatrix}\n",
    "$$\n",
    "2. write down the adjacency matrix wtice and multiply them to get $A^2$\n",
    "$$\n",
    "\\begin{bmatrix}\n",
    "   0 & 0 & 0 & 0 & 0 \\\\\n",
    "   0 & 0 & 0 & 0 & 0 \\\\\n",
    "   1 & 0 & 0 & 0 & 0 \\\\\n",
    "   2 & 1 & 0 & 0 & 0 \\\\\n",
    "   1 & 2 & 1 & 0 & 0\n",
    "\\end{bmatrix}\n",
    "$$\n",
    "\n",
    "3. Indicate what each nonzero element of $A^2$ means.\n",
    "   A: The meaning of the $A_2$ is to determine if there are edges between two specific nodes, even though they are not directly connected.\n",
    "\n",
    "4. Write down the paths that correspond to these nonzero elements: e.g. 1 -> 3 -> 4\n",
    "\n",
    "\n",
    "5. Multiply $Ax$, $A^2x = A(Ax)$, and $A^3x = A(A(Ax))$. What do these resulting column vectors represent?\n",
    "\n",
    "6. Do the same for $x=[0,0,1,0,0].T$ Does the observation generalize?"
   ]
  },
  {
   "cell_type": "code",
   "execution_count": null,
   "metadata": {},
   "outputs": [],
   "source": [
    "A = np.array([[0,0,0,0,0],[1,0,0,0,0], [1,1,0,0,0], [0,1,1,0,0], [0,0,1,1,0]])\n",
    "A_square = np.dot(A, A)\n",
    "print(A_square)"
   ]
  },
  {
   "attachments": {},
   "cell_type": "markdown",
   "metadata": {},
   "source": [
    "### Grid Network\n",
    "\n",
    "1. Write down the degrees of the nodes. Pick a way to visualize data.\n",
    "2. Briefly describe the pattern, why stops, where it does. How could you make the propagation go further. "
   ]
  },
  {
   "attachments": {},
   "cell_type": "markdown",
   "metadata": {},
   "source": [
    "### Directed Graph"
   ]
  },
  {
   "attachments": {},
   "cell_type": "markdown",
   "metadata": {},
   "source": [
    "### E. coli Protein Network"
   ]
  },
  {
   "attachments": {},
   "cell_type": "markdown",
   "metadata": {},
   "source": [
    "## Section 6.12: Flows && Cut sets\n",
    "1. describe these graphs in words\n",
    "2. Choose n to be somewhat large 1000 and observe the computation time required on these two types of graphs\n",
    "3. reason why"
   ]
  }
 ],
 "metadata": {
  "kernelspec": {
   "display_name": "tvbenv",
   "language": "python",
   "name": "python3"
  },
  "language_info": {
   "codemirror_mode": {
    "name": "ipython",
    "version": 3
   },
   "file_extension": ".py",
   "mimetype": "text/x-python",
   "name": "python",
   "nbconvert_exporter": "python",
   "pygments_lexer": "ipython3",
   "version": "3.10.9"
  },
  "orig_nbformat": 4,
  "vscode": {
   "interpreter": {
    "hash": "642604e2923cd5d750b7ddbb891d540296b86b473d2460e04e5abcbd5e147e6f"
   }
  }
 },
 "nbformat": 4,
 "nbformat_minor": 2
}
