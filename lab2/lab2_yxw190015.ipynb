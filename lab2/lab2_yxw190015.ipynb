{
 "cells": [
  {
   "attachments": {},
   "cell_type": "markdown",
   "metadata": {},
   "source": [
    "\n",
    "### Lab2 Homework  \n",
    "Yile Wang  \n",
    "yxw190015  \n",
    "02/02/2023 "
   ]
  },
  {
   "attachments": {},
   "cell_type": "markdown",
   "metadata": {},
   "source": [
    "## Section 6.9 Degree:\n",
    "1. _Q: identify an example type of network of when it's a good thing to be a high degree node and an example of when it is a bad thing to be a high degree node in a network_   \n",
    "    A: good thing: in a small-scale network, high degree node will be more efficient to distribute information/resource to other nodes. For example, in a lab, everyone needs to report progress to PI, who is the node with high degree. The PI can guide PhD student directly and they can share the resource from other collaborators to their own PhD students. \n",
    "\n",
    "    A bad thing: in a giant computer network, if one server has to respond most of users' requests, and it also has to receive information from upper stream, it would be more vulnerable for potential attack, and it may lead to long waiting time to users within the network. "
   ]
  },
  {
   "attachments": {},
   "cell_type": "markdown",
   "metadata": {},
   "source": [
    "2. _Q: Describe or draw an example of a network in which a particular node has very few conections but it could be argued that it is a very important node. Justify your reasoning._ \n",
    "\n",
    "    A: I will illustrate it with my code below:\n",
    "    In my graph, `node1` only have one connection to `node2` but it's a very important node since it is the only in-degree for `node2`. The `node2` itself is a high degree node. Without input from `node1`, `node2` may be shut down. It could be understood as the **Engine** for a car. All the other nodes are dependent on the \"engine\" `node1`."
   ]
  },
  {
   "cell_type": "code",
   "execution_count": 1,
   "metadata": {},
   "outputs": [],
   "source": [
    "import networkx as nx\n",
    "import numpy as np\n",
    "import sys\n",
    "sys.path.append(\"../d3networkx/\")\n",
    "import d3networkx as d3nx\n",
    "from d3graph import D3Graph, D3DiGraph\n",
    "from numpy import *\n",
    "from time import time\n",
    "import asyncio\n",
    "from typing import Tuple\n",
    "import matplotlib.pyplot as plt\n",
    "\n",
    "def square_grid(n,d3,G,x0=100,y0=100,w=50):\n",
    "    if G is None:\n",
    "        G = D3Graph()\n",
    "    # find the dimensions for the grid that are as close as possible\n",
    "    num_rows = int(floor(sqrt(n)))\n",
    "    while n % num_rows != 0:\n",
    "        num_rows += 1\n",
    "    num_cols = int(n/num_rows)\n",
    "    \n",
    "    # Add all the nodes\n",
    "    G.add_nodes_from(range(n))\n",
    "        \n",
    "    # Add the edges and position the nodes\n",
    "    for i in range(num_rows):\n",
    "        for j in range(num_cols):\n",
    "            n = num_cols*i + j\n",
    "            d3.position_node(n,x0+i*w,y0+j*w)\n",
    "            if i < num_rows-1:\n",
    "                G.add_edge(n,n+num_cols) # add edge down\n",
    "            if j < num_cols-1:\n",
    "                G.add_edge(n,n+1) # add edge right\n",
    "\n",
    "async def propagate(G,d3,x,steps,slp=0.5,keep_highlights=False,update_at_end=False):\n",
    "    interactive = d3.interactive\n",
    "    d3.set_interactive(False)\n",
    "    A = nx.adjacency_matrix(G).todense().T  # adjacency matrix\n",
    "    d3.highlight_nodes_by_index(list(where(x>0)[0]))\n",
    "    d3.update()\n",
    "    await asyncio.sleep(slp)\n",
    "    cum_highlighted = sign(x)\n",
    "    for i in range(steps): # the brains\n",
    "        x = sign(dot(A,x)) # the brains\n",
    "        cum_highlighted = sign(cum_highlighted+x)\n",
    "        if not update_at_end:\n",
    "            if not keep_highlights:\n",
    "                d3.clear_highlights()\n",
    "            d3.highlight_nodes_by_index(list(where(x>0)[0]))\n",
    "            d3.update()\n",
    "            await asyncio.sleep(slp)\n",
    "    if update_at_end:\n",
    "        if not keep_highlights:\n",
    "            d3.clear_highlights()\n",
    "            d3.highlight_nodes_by_index(list(where(x>0)[0]))\n",
    "        else:\n",
    "            d3.highlight_nodes_by_index(list(where(cum_highlighted>0)[0]))\n",
    "        d3.update()\n",
    "    d3.set_interactive(interactive)\n",
    "    if keep_highlights:\n",
    "        return cum_highlighted\n",
    "    else:\n",
    "        return x "
   ]
  },
  {
   "cell_type": "code",
   "execution_count": 2,
   "metadata": {},
   "outputs": [
    {
     "ename": "TypeError",
     "evalue": "'_AxesStack' object is not callable",
     "output_type": "error",
     "traceback": [
      "\u001b[0;31m---------------------------------------------------------------------------\u001b[0m",
      "\u001b[0;31mTypeError\u001b[0m                                 Traceback (most recent call last)",
      "Cell \u001b[0;32mIn[2], line 3\u001b[0m\n\u001b[1;32m      1\u001b[0m G \u001b[39m=\u001b[39m nx\u001b[39m.\u001b[39mDiGraph()\n\u001b[1;32m      2\u001b[0m G\u001b[39m.\u001b[39madd_edges_from([(\u001b[39m1\u001b[39m,\u001b[39m2\u001b[39m), (\u001b[39m2\u001b[39m,\u001b[39m3\u001b[39m), (\u001b[39m2\u001b[39m,\u001b[39m4\u001b[39m), (\u001b[39m2\u001b[39m,\u001b[39m5\u001b[39m), (\u001b[39m2\u001b[39m,\u001b[39m6\u001b[39m), (\u001b[39m3\u001b[39m,\u001b[39m5\u001b[39m), (\u001b[39m5\u001b[39m,\u001b[39m6\u001b[39m)])\n\u001b[0;32m----> 3\u001b[0m nx\u001b[39m.\u001b[39;49mdraw(G, with_labels\u001b[39m=\u001b[39;49m\u001b[39mTrue\u001b[39;49;00m)\n",
      "File \u001b[0;32m~/miniconda3/envs/tvbenv/lib/python3.10/site-packages/networkx/drawing/nx_pylab.py:113\u001b[0m, in \u001b[0;36mdraw\u001b[0;34m(G, pos, ax, **kwds)\u001b[0m\n\u001b[1;32m    111\u001b[0m cf\u001b[39m.\u001b[39mset_facecolor(\u001b[39m\"\u001b[39m\u001b[39mw\u001b[39m\u001b[39m\"\u001b[39m)\n\u001b[1;32m    112\u001b[0m \u001b[39mif\u001b[39;00m ax \u001b[39mis\u001b[39;00m \u001b[39mNone\u001b[39;00m:\n\u001b[0;32m--> 113\u001b[0m     \u001b[39mif\u001b[39;00m cf\u001b[39m.\u001b[39;49m_axstack() \u001b[39mis\u001b[39;00m \u001b[39mNone\u001b[39;00m:\n\u001b[1;32m    114\u001b[0m         ax \u001b[39m=\u001b[39m cf\u001b[39m.\u001b[39madd_axes((\u001b[39m0\u001b[39m, \u001b[39m0\u001b[39m, \u001b[39m1\u001b[39m, \u001b[39m1\u001b[39m))\n\u001b[1;32m    115\u001b[0m     \u001b[39melse\u001b[39;00m:\n",
      "\u001b[0;31mTypeError\u001b[0m: '_AxesStack' object is not callable"
     ]
    },
    {
     "data": {
      "text/plain": [
       "<Figure size 640x480 with 0 Axes>"
      ]
     },
     "metadata": {},
     "output_type": "display_data"
    }
   ],
   "source": [
    "G = nx.DiGraph()\n",
    "G.add_edges_from([(1,2), (2,3), (2,4), (2,5), (2,6), (3,5), (5,6)])\n",
    "nx.draw(G, with_labels=True)"
   ]
  },
  {
   "attachments": {},
   "cell_type": "markdown",
   "metadata": {},
   "source": [
    "3. _Q: explain what equation (6.25) means. simpler way to explain what the two summations mean_  \n",
    "    A: The equation 6.25 is:\n",
    "    $$k^{in}_i = \\sum^n_{j=1}A_{ij}$$\n",
    "    $$k^{out}_j = \\sum^n_{i=1}A_{ij}$$\n",
    "\n",
    "\n",
    "The meanings of two equations are to count how many edges comes in to the `node_i` and how many edges comes out from `node_i`.\n"
   ]
  },
  {
   "attachments": {},
   "cell_type": "markdown",
   "metadata": {},
   "source": [
    "## Section 6.10-11: Paths & Components\n",
    "1. Write down the adjacency matrix `A`. \n",
    "$$\n",
    "\\begin{bmatrix}\n",
    "   0 & 0 & 0 & 0 & 0 \\\\\n",
    "   1 & 0 & 0 & 0 & 0 \\\\\n",
    "   1 & 1 & 0 & 0 & 0 \\\\\n",
    "   0 & 1 & 1 & 0 & 0 \\\\\n",
    "   0 & 0 & 1 & 1 & 0 \n",
    "\\end{bmatrix}\n",
    "$$\n",
    "---\n",
    "2. write down the adjacency matrix wtice and multiply them to get $A^2$  \n",
    "$$\n",
    "\\begin{bmatrix}\n",
    "   0 & 0 & 0 & 0 & 0 \\\\\n",
    "   0 & 0 & 0 & 0 & 0 \\\\\n",
    "   1 & 0 & 0 & 0 & 0 \\\\\n",
    "   2 & 1 & 0 & 0 & 0 \\\\\n",
    "   1 & 2 & 1 & 0 & 0\n",
    "\\end{bmatrix}\n",
    "$$\n",
    "---\n",
    "3. _Indicate what each nonzero element of $A^2$ means._  \n",
    "   A: The meaning of the $A_2$ is to determine if there are edges between two specific nodes, even though they are not directly connected. If they are connected by path, the $A^2$ will be larger than 0.\n",
    "---\n",
    "4. _Write down the paths that correspond to these nonzero elements: e.g. 1 -> 3 -> 4_  \n",
    "   A: Equation 6.29 is \n",
    "   $$ N_{ij}^{(2)} = \\sum_{k=1}^n A_{ik}A_{kj} = [A^2]_{ij} $$\n",
    "   Using the equation above, we can know that we are counting the path only have two edges (because it's $A^2$), so we can know there are \n",
    "   1. A[3,0]: 0-1-3\n",
    "   2. A[2,0]: 0-1-2\n",
    "   3. A[3,0]: 0-2-3 ###A[3,0]=2\n",
    "   4. A[4,0]: 0-2-4\n",
    "   5. A[3,1]: 1-2-3\n",
    "   6. A[4,1]: 1-2-4\n",
    "   7. A[4,1]: 1-3-4 ### A[4,1]=2\n",
    "   8. A[4,2]: 2-3-4\n",
    "---\n",
    "5. Multiply $Ax$, $A^2x = A(Ax)$, and $A^3x = A(A(Ax))$. What do these resulting column vectors represent?    \n",
    "   A: $Ax$: $[0 1 1 0 0]^T$; $A^2x$: $[0 0 1 2 1]^T$; $A^3x$: $[0 0 0 1 3]^T$  \n",
    "   All these column vector represents how many paths from this `x` node to other nodes in the `A`. \n",
    "---\n",
    "6. Do the same for $x=[0,0,1,0,0]^T$ Does the observation generalize?  \n",
    "   A: $Ax$: $[0 0 0 1 1]^T$; $A^2x$: $[0 0 0 0 1]^T$; $A^3x$: $[0 0 0 0 0]^T$. Definitely the observation can be generalized here. "
   ]
  },
  {
   "cell_type": "code",
   "execution_count": 3,
   "metadata": {},
   "outputs": [
    {
     "name": "stdout",
     "output_type": "stream",
     "text": [
      "[[0 0 0 0 0]\n",
      " [0 0 0 0 0]\n",
      " [1 0 0 0 0]\n",
      " [2 1 0 0 0]\n",
      " [1 2 1 0 0]]\n"
     ]
    }
   ],
   "source": [
    "### The matrix multiplication for A.\n",
    "A = np.array([[0,0,0,0,0],[1,0,0,0,0], [1,1,0,0,0], [0,1,1,0,0], [0,0,1,1,0]])\n",
    "A_square = np.dot(A, A)\n",
    "print(A_square)"
   ]
  },
  {
   "cell_type": "code",
   "execution_count": 4,
   "metadata": {},
   "outputs": [
    {
     "name": "stdout",
     "output_type": "stream",
     "text": [
      "websocket server started..."
     ]
    },
    {
     "data": {
      "text/plain": [
       "7337"
      ]
     },
     "execution_count": 4,
     "metadata": {},
     "output_type": "execute_result"
    },
    {
     "name": "stdout",
     "output_type": "stream",
     "text": [
      "networkx connected...visualizer connected...visualizer connected..."
     ]
    }
   ],
   "source": [
    "d3 = await d3nx.create_d3nx_visualizer()\n",
    "# d3 = await d3nx.create_d3nx_visualizer(canvas_size=(1000, 800))\n",
    "d3.port"
   ]
  },
  {
   "attachments": {},
   "cell_type": "markdown",
   "metadata": {},
   "source": [
    "### Grid Network\n",
    "\n",
    "1. _Write down the degrees of the nodes. Pick a way to visualize data._  \n",
    "    A:  \n",
    "    1. degree = 2: 4 nodes\n",
    "    2. degree = 3: 40 nodes\n",
    "    3. degree = 4: 100 nodes  \n",
    "    \n",
    "    <!-- Visualization:\n",
    "    $$\n",
    "    \\begin{bmatrix}\n",
    "    2 & 3 & 3 & 3 & 2 \\\\\n",
    "    3 & 4 & 4 & 4 & 3 \\\\\n",
    "    3 & 4 & 4 & 4 & 3 \\\\\n",
    "    3 & 4 & 4 & 4 & 3 \\\\\n",
    "    2 & 3 & 3 & 3 & 2 \n",
    "    \\end{bmatrix}\n",
    "    $$ -->\n",
    "\n",
    "---\n",
    "2. _Briefly describe the pattern, why stops, where it does. How could you make the propagation go further._  \n",
    "    A: The pattern I see is sparse triangle in the lower side of matrix. Why it stops is because the `step` equals to 10. However, the essential part of the code is the `x = np.dot(A,x)` part, because it will update the `x` each iteration to update the highlight nodes in the network. And the `clear_highlight` will erase the previous highlight patterns."
   ]
  },
  {
   "cell_type": "code",
   "execution_count": 5,
   "metadata": {},
   "outputs": [
    {
     "data": {
      "image/png": "[encoded data removed]",
      "text/plain": [
       "<Figure size 1000x500 with 1 Axes>"
      ]
     },
     "metadata": {},
     "output_type": "display_data"
    }
   ],
   "source": [
    "# visualize degree data\n",
    "  \n",
    "# creating the dataset\n",
    "data = {'degree=2':4, 'degree=3':40, 'degree=4':100}\n",
    "courses = list(data.keys())\n",
    "values = list(data.values())\n",
    "  \n",
    "fig = plt.figure(figsize = (10, 5))\n",
    " \n",
    "# creating the bar plot\n",
    "plt.bar(courses, values)\n",
    "plt.show()"
   ]
  },
  {
   "cell_type": "code",
   "execution_count": 6,
   "metadata": {},
   "outputs": [],
   "source": [
    "d3.clear()\n",
    "d3.set_interactive(False)\n",
    "G = D3Graph()\n",
    "d3.set_graph(G)\n",
    "square_grid(144,d3,G,x0=75,y0=70)\n",
    "d3.update()"
   ]
  },
  {
   "cell_type": "code",
   "execution_count": 7,
   "metadata": {},
   "outputs": [
    {
     "name": "stderr",
     "output_type": "stream",
     "text": [
      "/tmp/ipykernel_13164/381437306.py:38: FutureWarning: adjacency_matrix will return a scipy.sparse array instead of a matrix in Networkx 3.0.\n",
      "  A = nx.adjacency_matrix(G).todense().T  # adjacency matrix\n"
     ]
    }
   ],
   "source": [
    "# propagate\n",
    "x = zeros((G.number_of_nodes(),1))\n",
    "x[0] = 1\n",
    "await propagate(G,d3,x,10,slp=1);"
   ]
  },
  {
   "attachments": {},
   "cell_type": "markdown",
   "metadata": {},
   "source": [
    "### Directed Graph"
   ]
  },
  {
   "attachments": {},
   "cell_type": "markdown",
   "metadata": {},
   "source": [
    "1. _Q: End results of propagate?_  \n",
    "    A: All zeros\n",
    "---\n",
    "2. _Q: What's $A^{10}$? Describe why this is network path and also from linear algebra._    \n",
    "    A: The results of $A^{10}$ is all zeros, which means that there is no any path from node 1 to node 10. From network perspective, node 10 is larger than the total number of nodes, so it is reasonable to have all zeros in the matrix; From linear algebra perspective, the longest connections from first node to the last node is 4 edges, thus, if the $A^r$ over the $A^4$, the matrix will multiply with zeros. In linear algebra, The all zeros matrix is **null matrix**.\n",
    "---\n",
    "3. _Q: is the out-component what I predicted?_  \n",
    "    A: Yes definitely. From the definition of the out-component, out-component is the set of vertices that are reachable via directed paths starting from A, including A. If we choose `0` as the starting vertex, the whole set is the out-component.\n",
    "---\n",
    "4. _Q: Without changing the code within the propagate, how we use it to find in-components instead of out-component._  \n",
    "    A: The definition of the in-component is that a set of vertices from which there is a directed path to A, including A itself. Thus, we only need to reverse the direction (labels) in the network then we can have the in-component.\n",
    "---\n",
    "5. _Q: size of the strongly connected component?_  \n",
    "    A: The largest size of strongly connected component is a fully connected network. The size of the strongly connected componet is `None` in this network."
   ]
  },
  {
   "cell_type": "code",
   "execution_count": 8,
   "metadata": {},
   "outputs": [
    {
     "name": "stderr",
     "output_type": "stream",
     "text": [
      "/tmp/ipykernel_13164/381437306.py:38: FutureWarning: adjacency_matrix will return a scipy.sparse array instead of a matrix in Networkx 3.0.\n",
      "  A = nx.adjacency_matrix(G).todense().T  # adjacency matrix\n"
     ]
    },
    {
     "data": {
      "text/plain": [
       "matrix([[0.],\n",
       "        [0.],\n",
       "        [0.],\n",
       "        [0.],\n",
       "        [0.]])"
      ]
     },
     "execution_count": 8,
     "metadata": {},
     "output_type": "execute_result"
    }
   ],
   "source": [
    "d3.clear()\n",
    "G = nx.read_weighted_edgelist('lab2.edgelist', create_using=nx.DiGraph)\n",
    "G = D3DiGraph(G)\n",
    "d3.set_graph(G)\n",
    "d3.update()\n",
    "x = zeros((G.number_of_nodes(),1))\n",
    "x[0] = 1\n",
    "await propagate(G, d3, x, 10, slp=1)"
   ]
  },
  {
   "cell_type": "code",
   "execution_count": 9,
   "metadata": {},
   "outputs": [
    {
     "name": "stdout",
     "output_type": "stream",
     "text": [
      "[[0 0 0 0 0]\n",
      " [0 0 0 0 0]\n",
      " [0 0 0 0 0]\n",
      " [0 0 0 0 0]\n",
      " [0 0 0 0 0]]\n"
     ]
    },
    {
     "name": "stderr",
     "output_type": "stream",
     "text": [
      "/tmp/ipykernel_13164/66316860.py:1: FutureWarning: adjacency_matrix will return a scipy.sparse array instead of a matrix in Networkx 3.0.\n",
      "  A = nx.adjacency_matrix(G).todense().T  # adjacency matrix\n"
     ]
    }
   ],
   "source": [
    "A = nx.adjacency_matrix(G).todense().T  # adjacency matrix\n",
    "A10 = np.linalg.matrix_power(A, 10)\n",
    "print(A10)"
   ]
  },
  {
   "cell_type": "code",
   "execution_count": 10,
   "metadata": {},
   "outputs": [
    {
     "name": "stderr",
     "output_type": "stream",
     "text": [
      "/tmp/ipykernel_13164/381437306.py:38: FutureWarning: adjacency_matrix will return a scipy.sparse array instead of a matrix in Networkx 3.0.\n",
      "  A = nx.adjacency_matrix(G).todense().T  # adjacency matrix\n"
     ]
    }
   ],
   "source": [
    "## Out-component\n",
    "xx = await propagate(G, d3, x, 20, update_at_end=True, keep_highlights=True)\n",
    "\n",
    "## In-component\n",
    "# G = nx.read_weighted_edgelist('lab2.edgelist', create_using=nx.DiGraph)\n",
    "# G_rev = G.reverse()\n",
    "# G_rev = D3DiGraph(G_rev)\n",
    "# d3.set_graph(G_rev)\n",
    "# d3.update()\n",
    "# y = await propagate(G_rev, d3, x, 20, update_at_end=True, keep_highlights=True)"
   ]
  },
  {
   "attachments": {},
   "cell_type": "markdown",
   "metadata": {},
   "source": [
    "### E. coli Protein Network"
   ]
  },
  {
   "attachments": {},
   "cell_type": "markdown",
   "metadata": {},
   "source": [
    "1. _Q: find out the out-components of nodes with index 2 and 16_  \n",
    "    A: The out-components of nodes are just themselves, which are 2 and 16. The sizes of both are 1.\n",
    "2. _Q: The minimum of step size to find the whole out-component_  \n",
    "    A: I think it is `n-1`. "
   ]
  },
  {
   "cell_type": "code",
   "execution_count": 11,
   "metadata": {},
   "outputs": [
    {
     "name": "stdout",
     "output_type": "stream",
     "text": [
      "1.0\n"
     ]
    }
   ],
   "source": [
    "d3.clear()\n",
    "G = nx.read_weighted_edgelist('ecoli.edgelist', create_using=nx.DiGraph)\n",
    "G = D3DiGraph(G)\n",
    "d3.set_graph(G)\n",
    "d3.update()\n",
    "## propagate\n",
    "x = zeros((G.number_of_nodes(), 1))\n",
    "x[1] = 1\n",
    "y = await propagate(G, d3, x, 20, update_at_end=True, keep_highlights=True)\n",
    "print(sum(y))"
   ]
  },
  {
   "cell_type": "code",
   "execution_count": 12,
   "metadata": {},
   "outputs": [
    {
     "name": "stdout",
     "output_type": "stream",
     "text": [
      "1.0\n"
     ]
    }
   ],
   "source": [
    "x = zeros((G.number_of_nodes(), 1))\n",
    "x[15]=1\n",
    "y = await propagate(G, d3, x, 100, update_at_end=True, keep_highlights=True)\n",
    "print(sum(y))"
   ]
  },
  {
   "attachments": {},
   "cell_type": "markdown",
   "metadata": {},
   "source": [
    "### Function to show all the longest shortest paths\n",
    "This function below will give us the `REAL` longest shortest paths all in once.\n",
    "It will return all the path with longest path (5). And highlight all these paths all together in the network."
   ]
  },
  {
   "cell_type": "code",
   "execution_count": 13,
   "metadata": {},
   "outputs": [
    {
     "name": "stdout",
     "output_type": "stream",
     "text": [
      "{'133': ['190', '292', '136', '137', '133'], '134': ['190', '292', '136', '137', '134'], '138': ['190', '292', '136', '137', '138'], '139': ['190', '292', '136', '137', '139'], '264': ['190', '292', '136', '137', '264'], '367': ['190', '292', '136', '137', '367'], '381': ['190', '292', '136', '137', '381']}\n",
      "5\n"
     ]
    }
   ],
   "source": [
    "def diameter_net(network):\n",
    "    \"\"\"\n",
    "    A function to find the longest shortest paths in the network.\n",
    "    ----------------------\n",
    "    Parameters:\n",
    "        network: A D3DiGraph\n",
    "            The directed network\n",
    "    Return:\n",
    "        longest_paths: dict\n",
    "            All the paths with longest shortest path.\n",
    "            The keys of the dict is the **end vertex**.\n",
    "        largest: int\n",
    "            The length of the paths\n",
    "    \"\"\"\n",
    "    spaths = dict(nx.all_pairs_shortest_path(network))\n",
    "    keys = list(spaths)\n",
    "    largest = 0\n",
    "    for i in keys:\n",
    "        single_keys = list(spaths[i]) \n",
    "        for j in single_keys:\n",
    "            single_path = spaths[i][j]\n",
    "            if len(single_path) > largest:\n",
    "                longest_paths = {}\n",
    "                longest_paths[j] = single_path\n",
    "                largest = len(single_path)\n",
    "            elif len(single_path) ==  largest:\n",
    "                longest_paths[j] = single_path\n",
    "    return longest_paths, largest\n",
    "\n",
    "longest_paths, largest = diameter_net(G)\n",
    "print(longest_paths)\n",
    "print(largest)\n",
    "\n",
    "\n",
    "# a generator helps us to highlight the network\n",
    "def path_generator(path):\n",
    "    atuple = []\n",
    "    for i in range(len(path)-1):\n",
    "        j = i+1\n",
    "        new_ele = (path[i], path[j])\n",
    "        atuple.append(new_ele)\n",
    "    return atuple\n",
    "\n",
    "path = path_generator(longest_paths[list(longest_paths)[0]])\n",
    "\n",
    "\n",
    "d3.clear_highlights()\n",
    "# highlight the common paths of all the longest shortest path\n",
    "d3.highlight_edges(path[:-1]) \n",
    "d3.highlight_edges(G.edges(longest_paths[list(longest_paths)[0]][-2])) \n",
    "# show all the longest shortest paths together\n",
    "d3.update()\n"
   ]
  },
  {
   "attachments": {},
   "cell_type": "markdown",
   "metadata": {},
   "source": [
    "## Section 6.12: Flows && Cut sets\n",
    "1. _Q: describe these graphs in words_  \n",
    "    A: The best and worst scenario are presented in the functions `worst` and `best`. Worst scenario has only one edges from `node_1` to `node_n`. The `best` scenario has 500 edges from `node_1` to `node_n`. The minimum cut of `worst` is 1 and the minimum cut of `best` is 500. The `best` scenario also required longer time to cut off. "
   ]
  },
  {
   "cell_type": "code",
   "execution_count": 14,
   "metadata": {},
   "outputs": [
    {
     "name": "stdout",
     "output_type": "stream",
     "text": [
      "The minimum cut of the best network is 1\n",
      "min cut took 0.0204489231 seconds\n",
      "The minimum cut of the best network is 500\n",
      "min cut took 0.0629861355 seconds\n"
     ]
    }
   ],
   "source": [
    "def worst_graph(n):\n",
    "    G = nx.DiGraph()\n",
    "    halfway = int(n/2)\n",
    "    G.add_weighted_edges_from([(1, n, 1)])\n",
    "    for i in range(halfway):\n",
    "        j = i + halfway\n",
    "        G.add_edge(i, 1, weight=1)\n",
    "        G.add_edge(n, j, weight = 1)\n",
    "    return G\n",
    "\n",
    "def best_graph(n):\n",
    "    G = nx.DiGraph()\n",
    "    halfway = int(n/2)\n",
    "    G.add_weighted_edges_from([(0, 1, 1)])\n",
    "    for i in range(halfway):\n",
    "        j = i + halfway-1\n",
    "        G.add_edge(1, i, weight=1)\n",
    "        G.add_edge(i, j, weight = 1)\n",
    "        G.add_edge(j, n, weight= 1)\n",
    "    return G    \n",
    "\n",
    "# perform min cut\n",
    "n=1000\n",
    "\n",
    "d3.clear()\n",
    "worst = worst_graph(n)\n",
    "G=D3DiGraph(worst)\n",
    "d3.set_graph(G)\n",
    "d3.update()\n",
    "\n",
    "d3.clear()\n",
    "best = best_graph(n)\n",
    "G=D3DiGraph(best)\n",
    "d3.set_graph(G)\n",
    "d3.update()\n",
    "\n",
    "# time, worst\n",
    "start_time = time()\n",
    "value, _ = nx.minimum_cut(worst, 1, n, capacity='weight')\n",
    "print(f'The minimum cut of the best network is {value}')\n",
    "print('min cut took %1.10f seconds' % (time() - start_time))\n",
    "\n",
    "# time, best\n",
    "start_time = time()\n",
    "value, _ = nx.minimum_cut(best, 1, n, capacity='weight')\n",
    "print(f'The minimum cut of the best network is {value}')\n",
    "print('min cut took %1.10f seconds' % (time() - start_time))"
   ]
  },
  {
   "attachments": {},
   "cell_type": "markdown",
   "metadata": {},
   "source": [
    "1. _Q: why this graph should be an acyclic directed graph?_  \n",
    "    A: Because it will create inifinite death loop if we have cycle in the project. The longest path will be impossible to calculate if we have cycle.\n",
    "---\n",
    "2. _Q: potential use-case for analyzing the minimum cut of an activity network._  \n",
    "    A: 1. The minimum cut could be used as the evaluation of the time saving to achieve some certain goals. In this example, the edges are time usage to achieve next goal, so it would be valuable to know what's the most efficient way to achieve the final goal by wisely choosing the path; 2. When the edge weight is not time usage but other factors (i.e. cost, human resource allocation), it could be useful to help peopeling to optimize their decisions."
   ]
  },
  {
   "cell_type": "code",
   "execution_count": 8,
   "metadata": {},
   "outputs": [
    {
     "name": "stdout",
     "output_type": "stream",
     "text": [
      "[('Lead time', 'Move to site'), ('Lead time', 'Obtain pipes'), ('Lead time', 'Obtain valves'), ('Move to site', 'Lay out pipeline'), ('Obtain pipes', 'Prepare valve chambers'), ('Obtain pipes', 'Cut specials'), ('Obtain pipes', 'Lay pipes'), ('Obtain valves', 'Fit valves'), ('Lay out pipeline', 'Dig trench'), ('Dig trench', 'Prepare valve chambers'), ('Dig trench', 'Lay pipes'), ('Prepare valve chambers', 'Fit valves'), ('Cut specials', 'Fit valves'), ('Lay pipes', 'Concrete anchors'), ('Fit valves', 'Finish valve chambers'), ('Fit valves', 'Test pipeline'), ('Concrete anchors', 'Finish valve chambers'), ('Concrete anchors', 'Test pipeline'), ('Concrete anchors', 'Backfill'), ('Finish valve chambers', 'Leave site'), ('Test pipeline', 'Clean up'), ('Backfill', 'Clean up'), ('Clean up', 'Leave site')]\n",
      "The length of the path is 5 and the path is ['Lead time', 'Obtain valves', 'Fit valves', 'Finish valve chambers', 'Leave site']\n",
      "The minimum cut of the network is 11.0\n"
     ]
    }
   ],
   "source": [
    "G = nx.read_gml('pert.gml','name')\n",
    "\n",
    "for u, v in G.edges():\n",
    "    G[u][v]['weight'] = -G[u][v]['weight']\n",
    "\n",
    "# find longest path\n",
    "path = nx.bellman_ford_path(G, 'Lead time', 'Leave site', weight='weight')\n",
    "print(f'The length of the path is {len(path)} and the path is {path}')\n",
    "\n",
    "# minimum cut\n",
    "value, _ = nx.minimum_cut(G, 'Lead time', 'Leave site', capacity='weight')\n",
    "print(f'The minimum cut of the network is {value}')"
   ]
  }
 ],
 "metadata": {
  "kernelspec": {
   "display_name": "tvbenv",
   "language": "python",
   "name": "python3"
  },
  "language_info": {
   "codemirror_mode": {
    "name": "ipython",
    "version": 3
   },
   "file_extension": ".py",
   "mimetype": "text/x-python",
   "name": "python",
   "nbconvert_exporter": "python",
   "pygments_lexer": "ipython3",
   "version": "3.10.9"
  },
  "orig_nbformat": 4,
  "vscode": {
   "interpreter": {
    "hash": "d3c26eedd07840027ff202a94d88c89e67a86d8b5dcd58f087e1d46a589dbbcf"
   }
  }
 },
 "nbformat": 4,
 "nbformat_minor": 2
}
