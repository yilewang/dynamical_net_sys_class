{
 "cells": [
  {
   "cell_type": "code",
   "execution_count": null,
   "metadata": {},
   "outputs": [],
   "source": [
    "import numpy as np\n",
    "import matplotlib.pyplot as plt\n",
    "import networkx as nx\n",
    "import scipy.io\n",
    "import seaborn as sns\n",
    "import pandas as pd\n",
    "import re\n",
    "import sys\n",
    "sys.path.append('../../Metaconnectivity/Python')\n",
    "from TS2dFCstream import TS2dFCstream\n",
    "from dFCstream2MC import dFCstream2MC\n",
    "import itertools"
   ]
  },
  {
   "attachments": {},
   "cell_type": "markdown",
   "metadata": {},
   "source": [
    "### Label information\n",
    "SNC: super normal controls;  \n",
    "NC: normal controls;  \n",
    "MCI: mild cognitive impairments;  \n",
    "AD: alzheimer's disease;  "
   ]
  },
  {
   "cell_type": "code",
   "execution_count": null,
   "metadata": {},
   "outputs": [],
   "source": [
    "# load groups subtab from mega_table.xlsx from data4project using pandas\n",
    "group_caseid = pd.read_excel('../../data4project/mega_table.xlsx', sheet_name='groups')\n",
    "print(group_caseid)\n",
    "# read txt file sub_id.txt\n",
    "id_aal_512 = np.loadtxt('./sub_id.txt', dtype='str')\n",
    "labels = []\n",
    "for index, id in enumerate(id_aal_512[:74]):\n",
    "    if id in group_caseid['caseid'].to_list():\n",
    "        labels.append((group_caseid[\"group\"][index], id))"
   ]
  },
  {
   "attachments": {},
   "cell_type": "markdown",
   "metadata": {},
   "source": [
    "### prepare parcellation"
   ]
  },
  {
   "cell_type": "code",
   "execution_count": null,
   "metadata": {},
   "outputs": [],
   "source": [
    "#load the parcellation data\n",
    "file_name = '../../data4project/Region_Labels_90ROIs.txt'\n",
    "\n",
    "# Read the file\n",
    "with open(file_name, 'r') as file:\n",
    "    content = file.readlines()\n",
    "# Process the lines, using both period and tab characters as delimiters\n",
    "labels = []\n",
    "for line in content:\n",
    "    if len(line) > 1:\n",
    "        # Split the line using period and tab characters as delimiters\n",
    "        values = re.split(r'\\t|\\. ', line.strip())\n",
    "        labels.append(values)\n",
    "regions = [i[1] for i in labels]\n",
    "number = np.arange(90)\n",
    "df_parcel = pd.DataFrame({'number': number, 'regions': regions})\n",
    "print(df_parcel)"
   ]
  },
  {
   "attachments": {},
   "cell_type": "markdown",
   "metadata": {},
   "source": [
    "### load subjects"
   ]
  },
  {
   "cell_type": "code",
   "execution_count": null,
   "metadata": {},
   "outputs": [],
   "source": [
    "#load the single data\n",
    "def select_network(id, visual = False):\n",
    "    single_subj = scipy.io.loadmat(f'../../data4project/fmri_AAL_512/{id}/ROISignals_{id}.mat')\n",
    "    return np.array(single_subj['ROISignals'][:,:90])\n",
    "\n",
    "# example cases\n",
    "id1 = '0306A'\n",
    "id2 = '7416A'\n",
    "single_subj = select_network(id1)"
   ]
  },
  {
   "attachments": {},
   "cell_type": "markdown",
   "metadata": {},
   "source": [
    "### prepare names from each meta-links"
   ]
  },
  {
   "cell_type": "code",
   "execution_count": null,
   "metadata": {},
   "outputs": [],
   "source": [
    "# combination set\n",
    "regions_combination = list(itertools.combinations(range(len(df_parcel.regions)), 2))\n",
    "# give labels to comba\n",
    "meta_links = []\n",
    "for x in regions_combination:\n",
    "    tmp_one = (regions[x[0]], regions[x[1]])\n",
    "    meta_links.append(tmp_one)\n",
    "meta_links = [str(i) for i in meta_links]\n",
    "print(meta_links)"
   ]
  },
  {
   "attachments": {},
   "cell_type": "markdown",
   "metadata": {},
   "source": [
    "### calculate metaconnectivity"
   ]
  },
  {
   "cell_type": "code",
   "execution_count": null,
   "metadata": {},
   "outputs": [],
   "source": [
    "meta3d = np.zeros((len(meta_links), len(meta_links), len(group_caseid[\"group\"])))\n",
    "\n",
    "def create_metaconnectivity(id):\n",
    "    single_subj = select_network(id)\n",
    "    # calculate the Metaconnectivity\n",
    "    dFCstream = TS2dFCstream(single_subj, 5, None, '2D')\n",
    "    # Calculate MC\n",
    "    return dFCstream2MC(dFCstream)\n",
    "\n",
    "\n",
    "for index, id in enumerate(group_caseid[\"caseid\"]):\n",
    "    meta3d[:,:,index] = create_metaconnectivity(id)"
   ]
  },
  {
   "cell_type": "code",
   "execution_count": null,
   "metadata": {},
   "outputs": [],
   "source": [
    "# average the meta3d based on label\n",
    "SNC_meta = meta3d[:,:,:10].mean(axis=2)\n",
    "NC_meta = meta3d[:,:,10:26].mean(axis=2)\n",
    "MCI_meta = meta3d[:,:,26:61].mean(axis=2)\n",
    "AD_meta = meta3d[:,:,61:].mean(axis=2)"
   ]
  },
  {
   "cell_type": "code",
   "execution_count": null,
   "metadata": {},
   "outputs": [],
   "source": [
    "group_list = [SNC_meta, NC_meta, MCI_meta, AD_meta]\n",
    "name_list = ['SNC', 'NC', 'MCI', 'AD']\n",
    "for i in range(len(group_list)):\n",
    "    sns.heatmap(group_list[i], cmap='RdBu_r', vmin=-0.4, vmax = 0.8)\n",
    "    plt.title(f'Metaconnectivity_{name_list[i]}')\n",
    "    plt.show()"
   ]
  },
  {
   "cell_type": "code",
   "execution_count": null,
   "metadata": {},
   "outputs": [],
   "source": [
    "# build the network based on df_MC\n",
    "def build_network(mean_MC, threshold):\n",
    "    G = nx.Graph()\n",
    "    for i in range(len(mean_MC)):\n",
    "        for j in range(len(mean_MC)):\n",
    "            if mean_MC[i,j] > threshold or mean_MC[i,j] < -threshold:\n",
    "                G.add_edge(meta_links[i], meta_links[j], weight=mean_MC[i,j])\n",
    "    return G\n",
    "# build the network\n",
    "G = build_network(AD_meta, threshold=0.4)\n",
    "# # relabel the nodes with meta_links\n",
    "# G = nx.relabel_nodes(G, dict(zip(range(np.shape(meta3d)[0]), meta_links)))\n"
   ]
  },
  {
   "cell_type": "code",
   "execution_count": null,
   "metadata": {},
   "outputs": [],
   "source": [
    "nx.write_gml(G, 'fc_network.gml')"
   ]
  },
  {
   "cell_type": "code",
   "execution_count": null,
   "metadata": {},
   "outputs": [],
   "source": [
    "print(G.number_of_nodes())\n",
    "print(G.number_of_edges())"
   ]
  }
 ],
 "metadata": {
  "kernelspec": {
   "display_name": "tvbenv",
   "language": "python",
   "name": "python3"
  },
  "language_info": {
   "codemirror_mode": {
    "name": "ipython",
    "version": 3
   },
   "file_extension": ".py",
   "mimetype": "text/x-python",
   "name": "python",
   "nbconvert_exporter": "python",
   "pygments_lexer": "ipython3",
   "version": "3.10.10"
  },
  "orig_nbformat": 4
 },
 "nbformat": 4,
 "nbformat_minor": 2
}
