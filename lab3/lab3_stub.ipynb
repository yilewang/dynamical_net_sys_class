{
 "cells": [
  {
   "attachments": {},
   "cell_type": "markdown",
   "metadata": {},
   "source": [
    "## Lab3\n",
    "Name: Yile Wang  \n",
    "Netid: yxw190015"
   ]
  },
  {
   "cell_type": "code",
   "execution_count": 1,
   "metadata": {},
   "outputs": [],
   "source": [
    "import networkx as nx\n",
    "import numpy\n",
    "import numpy.linalg as la\n",
    "import matplotlib.pyplot as plt"
   ]
  },
  {
   "cell_type": "markdown",
   "metadata": {},
   "source": [
    "This function prints the top five (or `num`) nodes according to the centrality vector `v`, where `v` takes the form: `v[nidx]` is the centrality of the node that is the `nidx`-th element of `G.nodes()`"
   ]
  },
  {
   "cell_type": "code",
   "execution_count": 7,
   "metadata": {},
   "outputs": [],
   "source": [
    "def print_top_5(G,v, num=5):\n",
    "    thenodes = list(G.nodes())\n",
    "    idx_list = [(i,v[i]) for i in range(len(v))]\n",
    "    idx_list = sorted(idx_list, key = lambda x: x[1], reverse=True)\n",
    "    for i in range(min(num,len(idx_list))):\n",
    "        nidx, score = idx_list[i]\n",
    "        print('  %i. %s (%1.4f)' % (i+1,thenodes[nidx],score))\n",
    "        #print '  %i. %s' % (i+1,G.node_object(idx))"
   ]
  },
  {
   "cell_type": "markdown",
   "metadata": {},
   "source": [
    "This function returns the index of the maximum of the array. If two or more indices have the same max value, the first index is returned."
   ]
  },
  {
   "cell_type": "code",
   "execution_count": 8,
   "metadata": {},
   "outputs": [],
   "source": [
    "def index_of_max(v):\n",
    "    return numpy.where(v == max(v))[0]"
   ]
  },
  {
   "cell_type": "markdown",
   "metadata": {},
   "source": [
    "This function accepts a dictionary of nodes with centrality values and returns a centrality vector"
   ]
  },
  {
   "cell_type": "code",
   "execution_count": 9,
   "metadata": {},
   "outputs": [],
   "source": [
    "def centrality_vector(G,d):\n",
    "    thenodes = list(G.nodes())\n",
    "    v = numpy.zeros((G.number_of_nodes(),))\n",
    "    for i,u in enumerate(thenodes):\n",
    "        v[i] = d[u]\n",
    "    return v"
   ]
  },
  {
   "cell_type": "markdown",
   "metadata": {},
   "source": [
    "This function provides the index of a node based on its order in `G.nodes()`"
   ]
  },
  {
   "cell_type": "code",
   "execution_count": 10,
   "metadata": {},
   "outputs": [],
   "source": [
    "def node_index(G,n):\n",
    "    thenodes = list(G.nodes())\n",
    "    return thenodes.index(n)"
   ]
  },
  {
   "cell_type": "markdown",
   "metadata": {},
   "source": [
    "Now we read in the edgelist file that contains the coappearance network we will analyze. We will look at two different networks, corresponding to only the *Lord of the Rings* series and the *Lord of the Rings* series plus the prequel, The *Hobbit*. The `unweighted` boolean, if set to `True` will set all the edge weights to one. Recall that setting all weights to 1 is different (in NetworkX) from having no weights assigned, which could be accomplished instead by: `G = nx.read_edgelist('LoTR_characters.edgelist',data=False)`."
   ]
  },
  {
   "cell_type": "code",
   "execution_count": 11,
   "metadata": {},
   "outputs": [],
   "source": [
    "unweighted = True\n",
    "G = nx.read_weighted_edgelist('LotR_characters.edgelist') # just Lord of the Rings\n",
    "#G = nx.read_weighted_edgelist('hobbit_LotR_characters.edgelist') # with the Hobbit\n",
    "if unweighted:\n",
    "    for u,v in G.edges():\n",
    "        G[u][v]['weight'] = 1\n",
    "A = numpy.array(nx.adjacency_matrix(G).todense().T)\n",
    "N = G.number_of_nodes()"
   ]
  },
  {
   "cell_type": "markdown",
   "metadata": {},
   "source": [
    "## Degree Centrality"
   ]
  },
  {
   "cell_type": "code",
   "execution_count": null,
   "metadata": {},
   "outputs": [],
   "source": []
  },
  {
   "cell_type": "markdown",
   "metadata": {},
   "source": [
    "## Eigenvector Centrality"
   ]
  },
  {
   "cell_type": "code",
   "execution_count": 12,
   "metadata": {},
   "outputs": [
    {
     "name": "stdout",
     "output_type": "stream",
     "text": [
      "Eigenvector Centrality (by NetworkX):\n"
     ]
    }
   ],
   "source": [
    "print('Eigenvector Centrality (by NetworkX):')"
   ]
  },
  {
   "cell_type": "code",
   "execution_count": 13,
   "metadata": {},
   "outputs": [
    {
     "name": "stdout",
     "output_type": "stream",
     "text": [
      "Eigenvector Centrality (by linear algebra):\n"
     ]
    }
   ],
   "source": [
    "print('Eigenvector Centrality (by linear algebra):')\n",
    "k, v = la.eig(A)\n",
    "k1_idx = index_of_max(k) # find the index of the largest eigenvalue\n",
    "# finish printing the top 5 eigenvector centrality characters by linear algebra"
   ]
  },
  {
   "cell_type": "code",
   "execution_count": 14,
   "metadata": {},
   "outputs": [
    {
     "name": "stdout",
     "output_type": "stream",
     "text": [
      "Confirming that eigenvector centrality is a steady-state of sorts for node arwen:\n"
     ]
    }
   ],
   "source": [
    "noi = 'arwen'\n",
    "noi_idx = node_index(G,noi)\n",
    "print('Confirming that eigenvector centrality is a steady-state of sorts for node %s:' % noi)\n",
    "# compare the eigenvector centrality of arwen to the sum of the centralities of its neighbors (divided by the largest eigenvalue)"
   ]
  },
  {
   "cell_type": "markdown",
   "metadata": {},
   "source": [
    "The following section should run and produce a plot that you need to interpret."
   ]
  },
  {
   "cell_type": "code",
   "execution_count": 15,
   "metadata": {},
   "outputs": [
    {
     "name": "stdout",
     "output_type": "stream",
     "text": [
      "Showing the convergece of eigenvector centrality...\n"
     ]
    },
    {
     "data": {
      "image/png": "[encoded data removed]",
      "text/plain": [
       "<Figure size 432x288 with 1 Axes>"
      ]
     },
     "metadata": {
      "needs_background": "light"
     },
     "output_type": "display_data"
    }
   ],
   "source": [
    "print('Showing the convergece of eigenvector centrality...')\n",
    "num_steps = 10\n",
    "x = numpy.zeros((N,1)) # initial centrality vector\n",
    "x[76] = 1\n",
    "cs = numpy.zeros((N,num_steps))\n",
    "for i in range(num_steps):\n",
    "    x = x/la.norm(x) # at each step we need to normalize the centrality vector\n",
    "    for j in range(G.number_of_nodes()):\n",
    "        cs[j,i] = numpy.real(numpy.dot( x.T , v[:,j] ))[0] # project x onto each of the eigenvectors\n",
    "    x = numpy.dot(A,x) # \"pass\" the centrality one step forward\n",
    "\n",
    "plt.figure() # this creates a figure to plot in\n",
    "for i in range(G.number_of_nodes()): # for each eigenvector plot the projection of x onto it over the steps\n",
    "    if i == k1_idx:\n",
    "        plt.plot(range(num_steps),cs[i,:],label='Projection onto v1') # only label the eigenvector v1\n",
    "    else:\n",
    "        plt.plot(range(num_steps),cs[i,:])\n",
    "#plt.ylim([-0.2,1.1]) # this sets the limits for the y axis\n",
    "plt.legend(loc='best') # this attaches a legend\n",
    "plt.title('Projection of the centrality vector x onto the eigenvectors of A') # this adds a title\n",
    "plt.show() # this makes the figure appear"
   ]
  },
  {
   "cell_type": "markdown",
   "metadata": {},
   "source": [
    "## Katz Centrality"
   ]
  },
  {
   "cell_type": "code",
   "execution_count": 16,
   "metadata": {},
   "outputs": [
    {
     "name": "stdout",
     "output_type": "stream",
     "text": [
      "Katz Centrality:\n"
     ]
    }
   ],
   "source": [
    "print('Katz Centrality:')"
   ]
  },
  {
   "cell_type": "markdown",
   "metadata": {},
   "source": [
    "## PageRank"
   ]
  },
  {
   "cell_type": "code",
   "execution_count": 17,
   "metadata": {},
   "outputs": [
    {
     "name": "stdout",
     "output_type": "stream",
     "text": [
      "PageRank\n"
     ]
    }
   ],
   "source": [
    "print('PageRank')"
   ]
  },
  {
   "cell_type": "markdown",
   "metadata": {},
   "source": [
    "## Betweenness Centrality"
   ]
  },
  {
   "cell_type": "code",
   "execution_count": 19,
   "metadata": {},
   "outputs": [
    {
     "name": "stdout",
     "output_type": "stream",
     "text": [
      "Betweenness Centrality\n"
     ]
    }
   ],
   "source": [
    "print('Betweenness Centrality')"
   ]
  }
 ],
 "metadata": {
  "kernelspec": {
   "display_name": "tvbenv",
   "language": "python",
   "name": "python3"
  },
  "language_info": {
   "codemirror_mode": {
    "name": "ipython",
    "version": 3
   },
   "file_extension": ".py",
   "mimetype": "text/x-python",
   "name": "python",
   "nbconvert_exporter": "python",
   "pygments_lexer": "ipython3",
   "version": "3.10.9"
  },
  "vscode": {
   "interpreter": {
    "hash": "642604e2923cd5d750b7ddbb891d540296b86b473d2460e04e5abcbd5e147e6f"
   }
  }
 },
 "nbformat": 4,
 "nbformat_minor": 4
}
