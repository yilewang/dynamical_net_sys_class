{
 "cells": [
  {
   "cell_type": "code",
   "execution_count": 1,
   "metadata": {},
   "outputs": [],
   "source": [
    "import networkx as nx\n",
    "import d3networkx as d3nx\n",
    "from d3graph import D3Graph, D3DiGraph\n",
    "import random\n",
    "import math"
   ]
  },
  {
   "cell_type": "markdown",
   "metadata": {},
   "source": [
    "This next line starts up the visualizer. It will start some background code that sends data to the visualizer and then it will open a new browser window where the visualizer will live. Once you have the visualizer running, you can leave it running for the entire session, so don't re-run this block. If you close the `visualizer.html` (or hit refresh), you will need to reestablish this connection. In this case, you should click the refresh button in the Jupyter notebook (not for the webpage) to restart the kernel (which will clear your variables and Python environment)."
   ]
  },
  {
   "cell_type": "code",
   "execution_count": 2,
   "metadata": {},
   "outputs": [
    {
     "name": "stdout",
     "output_type": "stream",
     "text": [
      "websocket server started...networkx connected...visualizer connected..."
     ]
    }
   ],
   "source": [
    "d3 = await d3nx.create_d3nx_visualizer(event_delay=0.03, interactive=False, canvas_size=(1200,800),\n",
    "                        node_dstyle=d3nx.node_style(size=4,fill='#111111'), \n",
    "                        node_hstyle=d3nx.node_style(fill='#EB4343'),\n",
    "                        edge_hstyle=d3nx.edge_style(stroke='#EB4343',stroke_width=5))"
   ]
  },
  {
   "cell_type": "markdown",
   "metadata": {},
   "source": [
    "We will learn about this kind of graph, but it is a way of generating a type of graph, in this case with `N` nodes. Notice that the graph that we use needs to be a `D3Graph`, which we can make by simply creating it with the `nx.Graph` object."
   ]
  },
  {
   "cell_type": "code",
   "execution_count": 3,
   "metadata": {},
   "outputs": [
    {
     "name": "stdout",
     "output_type": "stream",
     "text": [
      "122\n"
     ]
    }
   ],
   "source": [
    "N = 100\n",
    "G = nx.erdos_renyi_graph(N,0.03)\n",
    "G = D3Graph(G)\n",
    "print(G.number_of_edges())\n",
    "d3.set_graph(G)"
   ]
  },
  {
   "cell_type": "markdown",
   "metadata": {},
   "source": [
    "Since interactive was set to `False`, we have yet to see the graph appear, so we call update to make it happen."
   ]
  },
  {
   "cell_type": "code",
   "execution_count": 4,
   "metadata": {},
   "outputs": [],
   "source": [
    "d3.update()"
   ]
  },
  {
   "cell_type": "markdown",
   "metadata": {},
   "source": [
    "Now we change the visualizer to be interactive."
   ]
  },
  {
   "cell_type": "code",
   "execution_count": 5,
   "metadata": {},
   "outputs": [],
   "source": [
    "d3.set_interactive(True)"
   ]
  },
  {
   "cell_type": "markdown",
   "metadata": {},
   "source": [
    "Here, I'm showing how you can explicitly position the location of nodes in the network, rather than relying on the *force layout* that is typically used. This is fun to watch because we've made the visualizer interactive now!"
   ]
  },
  {
   "cell_type": "code",
   "execution_count": 6,
   "metadata": {},
   "outputs": [],
   "source": [
    "d3.set_title('Positioning Nodes...')\n",
    "for nidx, n in enumerate(G.nodes()):\n",
    "    x = 250 + 230 * math.cos(math.radians(360.0*nidx/G.number_of_nodes()))\n",
    "    y = 300 + 150 * math.sin(math.radians(360.0*nidx/G.number_of_nodes()))\n",
    "    d3.position_node(n,x,y)"
   ]
  },
  {
   "cell_type": "markdown",
   "metadata": {},
   "source": [
    "Now I'm going to randomly highlight about 10% of the edges (`p=0.1`). Notice that `highlight_edges` and `highlight_nodes` are both plural, so if you are highlighting a single edge, you need to put it in a list/set. "
   ]
  },
  {
   "cell_type": "code",
   "execution_count": 7,
   "metadata": {},
   "outputs": [],
   "source": [
    "d3.set_title('Highlighting Edges...')\n",
    "p = 0.1\n",
    "active_nodes = set()\n",
    "for e in G.edges():\n",
    "    if random.random() <= p:\n",
    "        u,v = e\n",
    "        active_nodes.add(u)\n",
    "        active_nodes.add(v)\n",
    "        d3.highlight_edges([e])"
   ]
  },
  {
   "cell_type": "markdown",
   "metadata": {},
   "source": [
    "Now we go back and highlight all the nodes."
   ]
  },
  {
   "cell_type": "code",
   "execution_count": 8,
   "metadata": {},
   "outputs": [],
   "source": [
    "d3.highlight_nodes(active_nodes)"
   ]
  },
  {
   "cell_type": "markdown",
   "metadata": {},
   "source": [
    "Here we're adding a new node and giving it a unique style using the `stylize_node` method. You can do the same thing with edges."
   ]
  },
  {
   "cell_type": "code",
   "execution_count": 9,
   "metadata": {},
   "outputs": [],
   "source": [
    "d3.set_title('Adding and styling a single node...')\n",
    "G.add_node('new node')\n",
    "G.add_edge(0,'new node')\n",
    "d3.stylize_node('new node', d3nx.node_style(fill='#FFA929',size=12))"
   ]
  },
  {
   "cell_type": "markdown",
   "metadata": {},
   "source": [
    "Here we show how to transition from one network to another using the `clear` command, then setting the graph with `set_graph`. Since the new network is large enough, we set interactive to be `False`. Notice that we still need this to be a `D3DiGraph` not just a `nx.DiGraph` - this time we can do it all in one line, which is convenient."
   ]
  },
  {
   "cell_type": "code",
   "execution_count": 10,
   "metadata": {},
   "outputs": [],
   "source": [
    "d3.set_title('Switching to a directed network...')\n",
    "d3.clear()\n",
    "G = D3DiGraph(nx.scale_free_graph(100))\n",
    "d3.set_interactive(False)\n",
    "d3.set_graph(G)\n",
    "d3.update()"
   ]
  }
 ],
 "metadata": {
  "kernelspec": {
   "display_name": "Python 3",
   "language": "python",
   "name": "python3"
  },
  "language_info": {
   "codemirror_mode": {
    "name": "ipython",
    "version": 3
   },
   "file_extension": ".py",
   "mimetype": "text/x-python",
   "name": "python",
   "nbconvert_exporter": "python",
   "pygments_lexer": "ipython3",
   "version": "3.8.5"
  }
 },
 "nbformat": 4,
 "nbformat_minor": 4
}
