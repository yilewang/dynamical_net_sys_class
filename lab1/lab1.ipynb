{
 "cells": [
  {
   "attachments": {},
   "cell_type": "markdown",
   "metadata": {},
   "source": [
    "## Lab 1 for Dynamics of Complex Networks & Systems\n",
    "Author: Yile Wang  \n",
    "Date: 01/29/2023"
   ]
  },
  {
   "cell_type": "code",
   "execution_count": 1,
   "metadata": {},
   "outputs": [],
   "source": [
    "import networkx as nx\n",
    "import numpy as np\n",
    "import matplotlib.pyplot as plt"
   ]
  },
  {
   "attachments": {},
   "cell_type": "markdown",
   "metadata": {},
   "source": [
    "### Section 6.1 2 Networks \n",
    "This section we need to \n",
    "1. create a graph\n",
    "2. print out the `number of nodes` and `number of edges`\n",
    "3. check the edges in the graph\n",
    "4. print out the corresponding adjacency matrix\n",
    "5. print out the `A == A.T`. If `A == A.T`, it means that the matrix is symmetric.\n"
   ]
  },
  {
   "cell_type": "code",
   "execution_count": 2,
   "metadata": {},
   "outputs": [
    {
     "name": "stdout",
     "output_type": "stream",
     "text": [
      "#Node: 3, #Edge: 2\n",
      "Has 3-4 edge: False\n",
      "[[0. 1. 0. 0. 0. 0.]\n",
      " [1. 0. 1. 0. 0. 0.]\n",
      " [0. 1. 0. 0. 0. 0.]\n",
      " [0. 0. 0. 0. 0. 0.]\n",
      " [0. 0. 0. 0. 0. 0.]\n",
      " [0. 0. 0. 0. 0. 0.]]\n",
      "True\n"
     ]
    }
   ],
   "source": [
    "# 1. create a graph\n",
    "G=nx.Graph()\n",
    "G.add_edge(1,2)\n",
    "G.add_edge(2,3)\n",
    "\n",
    "# 2. print out & 3. check the edges\n",
    "print('#Node: %i, #Edge: %i' % (G.number_of_nodes(), G.number_of_edges()))\n",
    "print('Has 3-4 edge: %s' % G.has_edge(3,4))\n",
    "\n",
    "G.add_nodes_from(range(1,7))\n",
    "\n",
    "# 4. print out the corresponding adjacency matrix\n",
    "print(f\"adjacency matrix is \\n {nx.to_numpy_array(G).T}\")\n",
    "\n",
    "# 5. print out the A==A.T\n",
    "A = nx.to_numpy_array(G).T\n",
    "print((A==A.T).any())\n"
   ]
  },
  {
   "attachments": {},
   "cell_type": "markdown",
   "metadata": {},
   "source": [
    "### Section 6.3 Weighted Networks\n",
    "1. add weight to edges and print the adjacency matrix"
   ]
  },
  {
   "cell_type": "code",
   "execution_count": 17,
   "metadata": {},
   "outputs": [
    {
     "name": "stdout",
     "output_type": "stream",
     "text": [
      "{1: {'weight': 3}, 3: {'weight': 2}}\n",
      "[[0. 3. 0.]\n",
      " [3. 0. 2.]\n",
      " [0. 2. 0.]]\n"
     ]
    },
    {
     "data": {
      "image/png": "[encoded data removed]",
      "text/plain": [
       "<Figure size 640x480 with 1 Axes>"
      ]
     },
     "metadata": {},
     "output_type": "display_data"
    }
   ],
   "source": [
    "# 1. add weights to edges\n",
    "G2=nx.Graph()\n",
    "G2.add_edge(1,2, weight=3)\n",
    "G2.add_edge(2,3,weight=2)\n",
    "print(G2[2])\n",
    "print(nx.to_numpy_array(G2).T)"
   ]
  },
  {
   "attachments": {},
   "cell_type": "markdown",
   "metadata": {},
   "source": [
    "### Section 6.4 Directed networks\n",
    "1. create directed graph"
   ]
  },
  {
   "cell_type": "code",
   "execution_count": 4,
   "metadata": {},
   "outputs": [
    {
     "name": "stdout",
     "output_type": "stream",
     "text": [
      "[[0. 0. 1. 0. 0. 0.]\n",
      " [1. 0. 0. 0. 0. 0.]\n",
      " [0. 0. 0. 1. 0. 0.]\n",
      " [0. 0. 0. 0. 1. 1.]\n",
      " [1. 0. 0. 0. 0. 0.]\n",
      " [0. 1. 0. 0. 1. 0.]]\n"
     ]
    }
   ],
   "source": [
    "# 1. directed graph, compared it to the book graph 6.2 in chapter 6.4\n",
    "Di = nx.DiGraph()\n",
    "Di.add_edges_from([(3,1), (2,3), (6,2),(5,6),(4,6),(5,4),(1,4),(3,5)])\n",
    "print(nx.to_numpy_array(Di).T)"
   ]
  },
  {
   "attachments": {},
   "cell_type": "markdown",
   "metadata": {},
   "source": [
    "### The equation of the cocitation network is\n",
    "\n",
    "$$ C_{ij} = \\sum^n_{k=1} A_{ik} A_{jk} $$"
   ]
  },
  {
   "attachments": {},
   "cell_type": "markdown",
   "metadata": {},
   "source": [
    "### Section 6.4.1 Cocitation network\n",
    "In this case we need to write a function to generate the cocitation network.\n",
    "\n",
    "To answer questions:\n",
    "1. _Q: the sum should be zero but not, what did we miss?_  \n",
    "    A: In the beginning, I failed to generate zeros but I realized that we need to consider the `weight` of each edges into our network.  \n",
    "---\n",
    "2. _Q: Meaning of the neighbors in cocitation network? for `Linear Combination`? Print both_  \n",
    "    A: The meaning of the neighbors in cocitation network is that they have used same words in their definitions. And The more same words they used, the more similar between the two vertex (or nodes or definitions). The in-neighbors of `Linear Combination` in the original graph can only reflect if the `Linear Combination` is mentioned in their definitions.  \n",
    "---\n",
    "3. _Q: Now similary apply bibliographic coupling function?_  \n",
    "    A: Done. I defined a function called `network_similarity` when I tried to answer question 1. This function has different mode to calculate the `cocitation network` or `bibliographic coupling`."
   ]
  },
  {
   "cell_type": "code",
   "execution_count": 5,
   "metadata": {},
   "outputs": [
    {
     "name": "stdout",
     "output_type": "stream",
     "text": [
      "Diff between C1 and C2 is 0.0\n"
     ]
    }
   ],
   "source": [
    "# 1. write down the function\n",
    "# Read the gml file\n",
    "G = nx.read_gml(\"./proofwikidefs_la.gml\", 'name')\n",
    "\n",
    "\n",
    "def network_similarity(G, mode=\"co\"):\n",
    "    \"\"\" \n",
    "    The algorithm to compute the network similarity (cocitation network, bibliographic network) based on graphical approach. \n",
    "    By graphical approach, which means that we need to use networkx package to compute the edges between each pair of nodes, to find out the similarity between certain pair of nodes.\n",
    "    -----------------\n",
    "    Input:\n",
    "        A graph\n",
    "    -----------------\n",
    "    Output:\n",
    "        a cocitation/bibliographic graph\n",
    "    \"\"\"\n",
    "\n",
    "\n",
    "    # A helper function to calculate the common weights between nodes i and j\n",
    "    def cal_co_weights(G, i,j, mode=mode):\n",
    "        \"\"\" \n",
    "        Helping to calculate the common weights in different modes: cocitation network or bibliographic network\n",
    "        --------------------\n",
    "        Input:\n",
    "            G: graph\n",
    "                Directed graph\n",
    "            i: str, int\n",
    "                node name/index\n",
    "            j: str, int\n",
    "                node name/index\n",
    "            mode: str\n",
    "                this function supports two modes: one is to calculate the cocitation network, and the other is to calculate the bibliographic network.\n",
    "        ---------------------\n",
    "        Return:\n",
    "            co_weight: float\n",
    "                The common weight between the two nodes\n",
    "        \"\"\"\n",
    "        if mode in [\"co\", \"cocitation\"]:\n",
    "            # G.predecessors will return the a directed edge from m to n\n",
    "            common_edges = [ele for ele in list(G.predecessors(i)) if ele in list(G.predecessors(i)) and ele in list(G.predecessors(j))]\n",
    "            iw = [G.get_edge_data(ele, i)[\"weight\"] for ele in common_edges]\n",
    "            jw = [G.get_edge_data(ele, j)[\"weight\"] for ele in common_edges]\n",
    "            co_weight = np.dot(iw, jw)\n",
    "            return co_weight\n",
    "\n",
    "        elif mode in [\"bi\", \"biliographic\"]:\n",
    "            # G.successors directed edge from n to next layer\n",
    "            common_edges = [ele for ele in list(G.successors(i)) if ele in list(G.successors(i)) and ele in list(G.successors(j))]\n",
    "            iw = [G.get_edge_data(i, ele)[\"weight\"] for ele in common_edges]\n",
    "            jw = [G.get_edge_data(j, ele)[\"weight\"] for ele in common_edges]\n",
    "            co_weight = np.dot(iw, jw)\n",
    "            return co_weight\n",
    "\n",
    "\n",
    "    # Define CG\n",
    "    CG = nx.Graph()\n",
    "    CG.add_nodes_from(G.nodes(data=True)) # keep the node information\n",
    "    for ind, i in enumerate(G.nodes):\n",
    "        for j in list(G.nodes)[ind:]:\n",
    "            co_weight = cal_co_weights(G , i, j)\n",
    "            if co_weight > 0:\n",
    "                CG.add_edge(i, j, weight= co_weight)\n",
    "    return CG\n",
    "\n",
    "cocit_net = network_similarity(G)\n",
    "# test\n",
    "a = nx.to_numpy_array(G).T\n",
    "C1 = np.dot(a, a.T)\n",
    "C2 = nx.to_numpy_array(cocit_net).T\n",
    "Cdiff = C1-C2\n",
    "print(f\"Diff between C1 and C2 is {Cdiff.sum().sum()}\")"
   ]
  },
  {
   "cell_type": "code",
   "execution_count": 6,
   "metadata": {},
   "outputs": [
    {
     "name": "stdout",
     "output_type": "stream",
     "text": [
      "Neighbor 0 is Vector (Euclidean Space) with weight 10.0\n",
      "Neighbor 1 is Set of All Linear Transformations with weight 1.0\n",
      "Neighbor 2 is Ordered Basis with weight 3.0\n",
      "Neighbor 3 is Linearly Independent/Sequence/Real Vector Space with weight 4.0\n",
      "Neighbor 4 is Linearly Dependent/Sequence/Real Vector Space with weight 6.0\n",
      "Neighbor 5 is Linear Span with weight 6.0\n",
      "Neighbor 6 is Linear Combination of Subset with weight 10.0\n",
      "Neighbor 7 is Linear Combination of Sequence with weight 8.0\n",
      "Neighbor 8 is Linear Combination of Empty Set with weight 6.0\n",
      "Neighbor 9 is Linear Combination with weight 26.0\n",
      "Neighbor 10 is Matrix with weight 1.0\n",
      "Neighbor 11 is Basis (Linear Algebra) with weight 2.0\n",
      "Neighbor 12 is Matrix Product (Conventional) with weight 1.0\n",
      "Neighbor 13 is Module with weight 8.0\n",
      "Neighbor 14 is Linearly Independent/Set/Real Vector Space with weight 1.0\n",
      "Neighbor 15 is Linearly Dependent/Set/Real Vector Space with weight 2.0\n",
      "Neighbor 16 is Linearly Independent/Set with weight 1.0\n",
      "Neighbor 17 is Linearly Independent/Sequence with weight 1.0\n",
      "Neighbor 18 is Linearly Independent Set with weight 6.0\n",
      "Neighbor 19 is Linearly Independent Sequence with weight 10.0\n",
      "Neighbor 20 is Linearly Independent with weight 2.0\n",
      "Neighbor 21 is Linearly Dependent/Set with weight 2.0\n",
      "Neighbor 22 is Linearly Dependent/Sequence with weight 2.0\n",
      "Neighbor 23 is Linearly Dependent Set with weight 2.0\n",
      "Neighbor 24 is Linearly Dependent Sequence with weight 8.0\n",
      "Neighbor 25 is Linearly Dependent with weight 1.0\n",
      "Neighbor 26 is Zero Vector with weight 10.0\n",
      "Neighbor 27 is Zero Scalar with weight 3.0\n",
      "Neighbor 28 is Unitary Module with weight 9.0\n",
      "Neighbor 29 is Vector Space with weight 3.0\n",
      "Neighbor 30 is Linear Transformation with weight 7.0\n",
      "Neighbor 31 is Vector Subspace with weight 1.0\n",
      "Neighbor 32 is Vector (Linear Algebra) with weight 3.0\n"
     ]
    }
   ],
   "source": [
    "# 2. comparison\n",
    "# cocitation network\n",
    "all_neighbors = list(nx.all_neighbors(cocit_net, \"Linear Combination\"))\n",
    "all_weights = [cocit_net.get_edge_data(ele, \"Linear Combination\", default=0)[\"weight\"] for ele in all_neighbors] \n",
    "for ind, i in enumerate(all_neighbors):\n",
    "    print(f\"Neighbor {ind} is {all_neighbors[ind]} with weight {all_weights[ind]}\")"
   ]
  },
  {
   "cell_type": "code",
   "execution_count": 7,
   "metadata": {},
   "outputs": [
    {
     "name": "stdout",
     "output_type": "stream",
     "text": [
      "In-Neighbor 0 is Spanning Set with weight 1.0\n",
      "In-Neighbor 1 is Linearly Dependent/Sequence/Real Vector Space with weight 1.0\n",
      "In-Neighbor 2 is Linear Span with weight 1.0\n",
      "In-Neighbor 3 is Linear Combination/Subset with weight 1.0\n",
      "In-Neighbor 4 is Linear Combination/Sequence with weight 1.0\n",
      "In-Neighbor 5 is Linear Combination/Empty Set with weight 1.0\n",
      "In-Neighbor 6 is Linear Combination of Subset with weight 1.0\n",
      "In-Neighbor 7 is Linear Combination of Sequence with weight 1.0\n",
      "In-Neighbor 8 is Linear Combination of Empty Set with weight 1.0\n",
      "In-Neighbor 9 is Generator/Module/Spanning Set with weight 1.0\n",
      "In-Neighbor 10 is Relative Matrix with weight 1.0\n",
      "In-Neighbor 11 is Linearly Independent/Sequence with weight 1.0\n",
      "In-Neighbor 12 is Linearly Independent Sequence with weight 1.0\n",
      "In-Neighbor 13 is Linearly Independent with weight 1.0\n",
      "In-Neighbor 14 is Linearly Dependent/Sequence with weight 2.0\n",
      "In-Neighbor 15 is Linearly Dependent Sequence with weight 2.0\n",
      "In-Neighbor 16 is Linearly Dependent with weight 2.0\n"
     ]
    }
   ],
   "source": [
    "# 2. original network\n",
    "all_in_neighbors = list(G.predecessors(\"Linear Combination\"))\n",
    "all_in_weights = [G.get_edge_data(ele, \"Linear Combination\", default=0)[\"weight\"] for ele in all_in_neighbors]\n",
    "for ind, i in enumerate(all_in_neighbors):\n",
    "    print(f\"In-Neighbor {ind} is {all_in_neighbors[ind]} with weight {all_in_weights[ind]}\") "
   ]
  },
  {
   "cell_type": "code",
   "execution_count": 13,
   "metadata": {},
   "outputs": [
    {
     "name": "stdout",
     "output_type": "stream",
     "text": [
      "Bibliographic matrix: \n",
      " [[1. 1. 1. ... 1. 1. 0.]\n",
      " [1. 1. 1. ... 1. 1. 0.]\n",
      " [1. 1. 5. ... 1. 2. 0.]\n",
      " ...\n",
      " [1. 1. 1. ... 1. 1. 0.]\n",
      " [1. 1. 2. ... 1. 4. 0.]\n",
      " [0. 0. 0. ... 0. 0. 1.]]\n"
     ]
    }
   ],
   "source": [
    "# 3. new function to produce bibliographic coupling:\n",
    "\n",
    "# we will just use `network_similarity` function\n",
    "BC = network_similarity(G, mode=\"bi\")\n",
    "print(f\"Bibliographic matrix: \\n {nx.to_numpy_array(BC).T}\")"
   ]
  },
  {
   "attachments": {},
   "cell_type": "markdown",
   "metadata": {},
   "source": [
    "### Concept Question\n",
    "1. _Q: Try to reverse the cocitation network and check bibliographic network_  \n",
    "    A: They are same. The bibligraphic network would be the same with cocitation network.\n",
    "---\n",
    "2. _Q: Is it possible to have same cocitation and same bibliographic coupling graphs?_  \n",
    "    A: No I don't think so. The reason is that I don't think there is a $B$ matrix can satisfy  $AA^T = B^TB$ or  $BB^T = A^TA$ when  $A \\neq B$.  \n",
    "\n",
    "    $AA^T = A^TA$ can be true when A is a square matrix. However, it is impossible to find a $B$ completely equals $A$ but not $A$. Thus, it's impossible to achieve it.\n"
   ]
  },
  {
   "cell_type": "code",
   "execution_count": 16,
   "metadata": {},
   "outputs": [
    {
     "name": "stdout",
     "output_type": "stream",
     "text": [
      "the original matrix: \n",
      " [[0. 1. 1. 1. 1. 1.]\n",
      " [1. 0. 1. 1. 1. 1.]\n",
      " [1. 1. 0. 1. 1. 1.]\n",
      " [1. 1. 1. 0. 1. 1.]\n",
      " [1. 1. 1. 1. 0. 1.]\n",
      " [1. 1. 1. 1. 1. 0.]]\n",
      "the cocitation network: \n",
      " [[0. 4. 4. 4. 4. 4.]\n",
      " [4. 0. 4. 4. 4. 4.]\n",
      " [4. 4. 0. 4. 4. 4.]\n",
      " [4. 4. 4. 0. 4. 4.]\n",
      " [4. 4. 4. 4. 0. 4.]\n",
      " [4. 4. 4. 4. 4. 0.]]\n",
      "the bibliographic network: \n",
      " [[0. 4. 4. 4. 4. 4.]\n",
      " [4. 0. 4. 4. 4. 4.]\n",
      " [4. 4. 0. 4. 4. 4.]\n",
      " [4. 4. 4. 0. 4. 4.]\n",
      " [4. 4. 4. 4. 0. 4.]\n",
      " [4. 4. 4. 4. 4. 0.]]\n",
      "the differences between cocitation and bibliographic coupling is 0.0\n"
     ]
    },
    {
     "data": {
      "image/png": "[encoded data removed]",
      "text/plain": [
       "<Figure size 640x480 with 1 Axes>"
      ]
     },
     "metadata": {},
     "output_type": "display_data"
    }
   ],
   "source": [
    "# 1. try to reverse it:\n",
    "Dnet = nx.DiGraph()\n",
    "for i in range(6):\n",
    "    for j in range(6):\n",
    "        if i != j:\n",
    "            Dnet.add_edge(i, j, weight=1)\n",
    "            Dnet.add_edge(j, i, weight=1)\n",
    "nx.draw(Dnet)\n",
    "original = nx.to_numpy_array(Dnet).T\n",
    "print(f\"the original matrix: \\n {original}\")\n",
    "\n",
    "# the cocitation network\n",
    "co = network_similarity(Dnet)\n",
    "co_adj = nx.to_numpy_array(co).T\n",
    "# fix the diagonal\n",
    "np.fill_diagonal(co_adj, 0)\n",
    "print(f\"the cocitation network: \\n {co_adj}\")\n",
    "\n",
    "# the bibliographic network\n",
    "bi = network_similarity(Dnet, mode=\"bi\")\n",
    "bi_adj = nx.to_numpy_array(bi).T\n",
    "# fix the diagonal\n",
    "np.fill_diagonal(bi_adj, 0)\n",
    "print(f\"the bibliographic network: \\n {bi_adj}\")\n",
    "\n",
    "cdiff = co_adj - bi_adj\n",
    "print(f\"the differences between cocitation and bibliographic coupling is {cdiff.sum().sum()}\")"
   ]
  },
  {
   "cell_type": "code",
   "execution_count": 10,
   "metadata": {},
   "outputs": [
    {
     "name": "stdout",
     "output_type": "stream",
     "text": [
      "The differences between cocitation network is 0.0,and the difference between bibliographic network is 0.0, only when the two networks are square matrix and identifical\n"
     ]
    }
   ],
   "source": [
    "# 2. example of same cocitaiton and bibliographic networks:\n",
    "newG1 = nx.DiGraph()\n",
    "newG1.add_weighted_edges_from([(1,2, 1), (2,3, 1), (3,1, 1),(2,1, 1),(3,2, 1),(1,3, 1)])\n",
    "newG2 = nx.DiGraph()\n",
    "newG2.add_weighted_edges_from([(1,2, 1),(2,3, 1), (3,1, 1),(2,1, 1),(3,2, 1),(1,3,1)])\n",
    "\n",
    "co1 = network_similarity(newG1)\n",
    "co2 = network_similarity(newG2)\n",
    "bi1 = network_similarity(newG1, mode=\"bi\")\n",
    "bi2 = network_similarity(newG2, mode='bi')\n",
    "\n",
    "cdiff = nx.to_numpy_array(co1).T - nx.to_numpy_array(co2).T\n",
    "bdiff = nx.to_numpy_array(bi1).T - nx.to_numpy_array(bi2).T\n",
    "\n",
    "print(f\"The differences between cocitation network is {cdiff.sum().sum()},and the difference between bibliographic network is {bdiff.sum().sum()}, only when the two networks are square matrix and identifical\")"
   ]
  },
  {
   "attachments": {},
   "cell_type": "markdown",
   "metadata": {},
   "source": [
    "### Section 6.4.2 Acyclic Networks\n",
    "1. A new function to determine acyclic or not."
   ]
  },
  {
   "cell_type": "code",
   "execution_count": 11,
   "metadata": {},
   "outputs": [
    {
     "name": "stdout",
     "output_type": "stream",
     "text": [
      "Acyclic\n",
      "Acyclic\n",
      "Cyclic\n"
     ]
    }
   ],
   "source": [
    "# 1. the function\n",
    "def acyclic_detect(file_path):\n",
    "    \"\"\"\n",
    "    A algorithm to make decision if the network is acyclic network\n",
    "    -------------------\n",
    "    Input:\n",
    "        file_path: str\n",
    "            the file path\n",
    "    -------------------\n",
    "    Output:\n",
    "        result: str\n",
    "            Acyclic or Cyclic\n",
    "    \"\"\"\n",
    "    G=nx.read_weighted_edgelist(file_path, create_using=nx.DiGraph)\n",
    "    # vertex with no outgoing edges\n",
    "    no_out = []\n",
    "    G_itera = G.copy()\n",
    "\n",
    "    i=0\n",
    "    while G_itera.order() >0:\n",
    "        while i < G_itera.number_of_nodes():\n",
    "            if G_itera.out_degree(list(G_itera.nodes)[i])>0:\n",
    "                i+=1\n",
    "            else:\n",
    "                G_itera.remove_node(list(G_itera.nodes)[i])\n",
    "                i=0\n",
    "        if G_itera.number_of_nodes() > 0:\n",
    "            return \"Cyclic\"\n",
    "    else:\n",
    "        return \"Acyclic\"\n",
    "\n",
    "    \n",
    "for i in range(1,4):\n",
    "    path = 'acyclic'+str(i)+'.edgelist'\n",
    "    print(acyclic_detect(path))"
   ]
  },
  {
   "attachments": {},
   "cell_type": "markdown",
   "metadata": {},
   "source": [
    "### Section 6.6 Bipartite Networks\n",
    "1. _Q: Would we use cocitation or bibliographic coupling?_  \n",
    "   A: I think the answer would be bibliographic coupling. By using the bibliographic coupling, we focus on the relationship between actors/actress, instead of the movies. \n",
    "---\n",
    "2. _Q: Print out Will Ferrell and Jason Statham_ \n",
    "   A: Done\n",
    "---\n",
    "3. _Q: Use this info about their neighbors in the one-mode projection to learn more about them._\n",
    "   A: They have lots of overlapping in the neighbors and they must have lots of movies published at that year, since the lists are long.\n",
    "---\n",
    "4. _Q: The numbers of neighbors of new comers. low degree in the net._\n",
    "   A: Done. And it's no surprise that they have low degrees since there is a sampling bias."
   ]
  },
  {
   "cell_type": "code",
   "execution_count": 12,
   "metadata": {},
   "outputs": [
    {
     "name": "stdout",
     "output_type": "stream",
     "text": [
      "WILL FERRELL: ['Brad Pitt', 'Matt Damon', 'Bradley Cooper', 'Mark Wahlberg', 'Melissa McCarthy', 'Ben Affleck', 'Dwayne Johnson', 'Natalie Portman', 'Tina Fey', 'Steve Carell', 'Will Ferrell', 'Seth Rogen', 'Amy Adams', 'Ben Stiller', 'Jonah Hill', 'Paul Rudd', 'Julianne Moore', 'Rachel McAdams', 'Kristen Wiig', 'Owen Wilson', 'Jason Bateman']\n",
      "JASON STATHAM: ['Brad Pitt', 'Tom Cruise', 'Mark Wahlberg', 'Robert De Niro', 'Javier Bardem', 'Chris Evans', 'Charlize Theron', 'Bruce Willis', 'Jamie Foxx', 'Sylvester Stallone', 'Jason Statham', 'Liam Hemsworth']\n",
      "ZAC EFRON: ['Robert De Niro', 'Zac Efron']\n",
      "CLINT EASTWOOD: ['Meryl Streep', 'Clint Eastwood']\n"
     ]
    }
   ],
   "source": [
    "# 2.\n",
    "B = nx.read_gml('2013-actor-movie-bipartite.gml', 'name')\n",
    "act_bi = network_similarity(B, mode=\"bi\")\n",
    "# print(nx.to_numpy_array(act_bi).T)\n",
    "\n",
    "# 3.\n",
    "print('WILL FERRELL: %s' %list(act_bi.neighbors('Will Ferrell')))\n",
    "print('JASON STATHAM: %s' %list(act_bi.neighbors('Jason Statham')))\n",
    "\n",
    "# 4.\n",
    "print('ZAC EFRON: %s' %list(act_bi.neighbors('Zac Efron')))\n",
    "print('CLINT EASTWOOD: %s' %list(act_bi.neighbors('Clint Eastwood')))"
   ]
  },
  {
   "attachments": {},
   "cell_type": "markdown",
   "metadata": {},
   "source": [
    "### Section 6.7 Trees\n",
    "\n",
    "1. _Q: How directed tree is different from an acyclic network._  \n",
    "    A: The number of edges in directed tree should be exactly `n-1` if number of vertexs is `n`. Also, it only has one path between any of two nodes.  \n",
    "---\n",
    "2. _Q: Draw a 7 node directed acyclic graph that is not a directed tree, then highlight which edges would need to remove to make the graph a directed tree. all edges are pointing downwards or sideways. is it always unique?_ \n",
    "   A: The graph I drawed is in the pdf file. Basically we need to make sure to have edges number equals to `n-1` and only one path between any of two nodes when we remove the edge. And it's not unique. We just need to make sure to break the additional path between any pair of nodes so that it will only have one way to reach each other in the network."
   ]
  }
 ],
 "metadata": {
  "kernelspec": {
   "display_name": "tvbenv",
   "language": "python",
   "name": "python3"
  },
  "language_info": {
   "codemirror_mode": {
    "name": "ipython",
    "version": 3
   },
   "file_extension": ".py",
   "mimetype": "text/x-python",
   "name": "python",
   "nbconvert_exporter": "python",
   "pygments_lexer": "ipython3",
   "version": "3.9.13"
  },
  "orig_nbformat": 4,
  "vscode": {
   "interpreter": {
    "hash": "d3c26eedd07840027ff202a94d88c89e67a86d8b5dcd58f087e1d46a589dbbcf"
   }
  }
 },
 "nbformat": 4,
 "nbformat_minor": 2
}
