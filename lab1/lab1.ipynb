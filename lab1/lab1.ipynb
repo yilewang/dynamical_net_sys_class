{
 "cells": [
  {
   "cell_type": "code",
   "execution_count": 5,
   "metadata": {},
   "outputs": [],
   "source": [
    "import networkx as nx\n",
    "import numpy as np\n",
    "import matplotlib.pyplot as plt"
   ]
  },
  {
   "cell_type": "code",
   "execution_count": 6,
   "metadata": {},
   "outputs": [
    {
     "name": "stdout",
     "output_type": "stream",
     "text": [
      "#Node: 3, #Edge: 2\n",
      "Has 3-4 edge: False\n",
      "[[0. 1. 0.]\n",
      " [1. 0. 1.]\n",
      " [0. 1. 0.]]\n",
      "{1: {'weight': 3}, 3: {'weight': 2}}\n"
     ]
    }
   ],
   "source": [
    "G=nx.Graph()\n",
    "G.add_edge(1,2)\n",
    "G.add_edge(2,3)\n",
    "print('#Node: %i, #Edge: %i' % (G.number_of_nodes(), G.number_of_edges()))\n",
    "print('Has 3-4 edge: %s' % G.has_edge(3,4))\n",
    "print(nx.to_numpy_array(G).T)\n",
    "G.add_nodes_from(range(1,7))\n",
    "G2=nx.Graph()\n",
    "G2.add_edge(1,2, weight=3)\n",
    "G2.add_edge(2,3,weight=2)\n",
    "print(G2[2])"
   ]
  },
  {
   "attachments": {},
   "cell_type": "markdown",
   "metadata": {},
   "source": [
    "### The equation of the cocitation network is\n",
    "\n",
    "$$ C_{ij} = \\sum^n_{k=1} A_{ik} A_{jk} $$"
   ]
  },
  {
   "cell_type": "code",
   "execution_count": 7,
   "metadata": {},
   "outputs": [],
   "source": [
    "# Read the gml file\n",
    "G = nx.read_gml(\"./proofwikidefs_la.gml\", \"name\")\n",
    "def cocitation(G):\n",
    "    \"\"\" \n",
    "    The algorithm to compute the cocitation index based on graphical approach\n",
    "    By graphical approach, which means that we need to use networkx package to compute the edges between each pair of nodes, to find out the similarity between certain pair of nodes.\n",
    "    Input:\n",
    "        graph\n",
    "    Output:\n",
    "        cocitation results\n",
    "    \"\"\"\n",
    "    # G.predecessors will return the a directed edge from m to n\n",
    "    # rational: we have a list of the m to n data, then we need to see if they have overlap.\n",
    "    # Define CG\n",
    "    CG = nx.Graph()\n",
    "\n",
    "    for ind, i in enumerate(G.nodes):\n",
    "        for j in list(G.nodes)[ind:]:\n",
    "            co_weight = len([ele for ele in list(G.predecessors(i)) if ele in list(G.predecessors(i)) and ele in list(G.predecessors(j))])\n",
    "            if co_weight > 0:\n",
    "                CG.add_edge(i, j, weight = co_weight)\n",
    "            else:\n",
    "                CG.add_edge(i, j, weight = 0)\n",
    "    return CG\n",
    "        \n",
    "# return G_cocitation\n",
    "cocit_net = cocitation(G)\n"
   ]
  },
  {
   "cell_type": "code",
   "execution_count": 8,
   "metadata": {},
   "outputs": [
    {
     "name": "stdout",
     "output_type": "stream",
     "text": [
      "[[1. 0. 0. ... 0. 0. 0.]\n",
      " [0. 2. 0. ... 0. 0. 0.]\n",
      " [0. 0. 0. ... 0. 0. 0.]\n",
      " ...\n",
      " [0. 0. 0. ... 0. 0. 0.]\n",
      " [0. 0. 0. ... 0. 2. 0.]\n",
      " [0. 0. 0. ... 0. 0. 0.]]\n",
      "[[1. 0. 0. ... 0. 0. 0.]\n",
      " [0. 2. 0. ... 0. 0. 0.]\n",
      " [0. 0. 0. ... 0. 0. 0.]\n",
      " ...\n",
      " [0. 0. 0. ... 0. 0. 0.]\n",
      " [0. 0. 0. ... 0. 2. 0.]\n",
      " [0. 0. 0. ... 0. 0. 0.]]\n",
      "Diff between C1 and C2 is 4872.0\n"
     ]
    }
   ],
   "source": [
    "a = nx.to_numpy_array(G).T\n",
    "C1 = np.dot(a, a.transpose())\n",
    "C2 = nx.to_numpy_array(cocit_net).T\n",
    "print(C1)\n",
    "print(C2)\n",
    "Cdiff = C1-C2\n",
    "print(f\"Diff between C1 and C2 is {Cdiff.sum().sum()}\")"
   ]
  }
 ],
 "metadata": {
  "kernelspec": {
   "display_name": "tvbenv",
   "language": "python",
   "name": "python3"
  },
  "language_info": {
   "codemirror_mode": {
    "name": "ipython",
    "version": 3
   },
   "file_extension": ".py",
   "mimetype": "text/x-python",
   "name": "python",
   "nbconvert_exporter": "python",
   "pygments_lexer": "ipython3",
   "version": "3.9.13"
  },
  "orig_nbformat": 4,
  "vscode": {
   "interpreter": {
    "hash": "d3c26eedd07840027ff202a94d88c89e67a86d8b5dcd58f087e1d46a589dbbcf"
   }
  }
 },
 "nbformat": 4,
 "nbformat_minor": 2
}
