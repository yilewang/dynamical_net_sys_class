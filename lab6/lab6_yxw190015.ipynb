{
 "cells": [
  {
   "attachments": {},
   "cell_type": "markdown",
   "metadata": {},
   "source": [
    "Name: Yile Wang\n",
    "\n",
    "netid: yxw190015"
   ]
  },
  {
   "cell_type": "code",
   "execution_count": 8,
   "metadata": {},
   "outputs": [],
   "source": [
    "import networkx as nx\n",
    "import sys\n",
    "sys.path.append('../d3networkx/')\n",
    "import d3networkx as d3nx\n",
    "from d3graph import D3Graph, D3DiGraph\n",
    "from numpy import *\n",
    "from numpy.linalg import eig,norm\n",
    "import matplotlib.pyplot as plt\n",
    "plt.ioff()\n",
    "from time import time\n",
    "from copy import deepcopy\n",
    "import asyncio\n",
    "import colorsys\n",
    "from sklearn import preprocessing"
   ]
  },
  {
   "attachments": {},
   "cell_type": "markdown",
   "metadata": {},
   "source": [
    "[1]:  \"2pts: Correct submission (files, file type, file naming).\" . `check`  \n",
    "[2]:  \"6pts: Discuss the effect of the diffusion parameter C.\" .   `check` .   \n",
    "[3]:  \"20pts: Convergence plot of diffusion process.\" .   \n",
    "[4]:  \"20pts: SI plot - at least one plot for each network and 3 different beta values for one network\" .  \n",
    "[5]:  \"8pts: Discuss the effect of the beta parameter.\" .   \n",
    "[6]:  \"20pts: SIR plot - at least one plot for each network and 3 different gamma values for one network\" .   \n",
    "[7]:  \"8pts: Discuss the effect of the gamma parameter relative to the critical value.\" .   \n",
    "[8]:  \"18pts: Plots of activation/infection for each node comparing influence (two ways) and SIR.\" .   "
   ]
  },
  {
   "cell_type": "markdown",
   "metadata": {},
   "source": [
    "The following functions assist in coloring nodes based on the value of the state at each node. You will only need to use `color_by_value` - the rest of the functions are helper functions that are used behind the scenes."
   ]
  },
  {
   "cell_type": "code",
   "execution_count": 67,
   "metadata": {},
   "outputs": [],
   "source": [
    "def RGBToHTMLColor(rgb_tuple):\n",
    "    \"\"\" convert an (R, G, B) tuple to #RRGGBB \"\"\"\n",
    "    hexcolor = '#%02x%02x%02x' % rgb_tuple\n",
    "    # that's it! '%02x' means zero-padded, 2-digit hex values\n",
    "    return hexcolor\n",
    "\n",
    "def HTMLColorToRGB(colorstring):\n",
    "    \"\"\" convert #RRGGBB to an (R, G, B) tuple \"\"\"\n",
    "    colorstring = colorstring.strip()\n",
    "    if colorstring[0] == '#': colorstring = colorstring[1:]\n",
    "    if len(colorstring) != 6:\n",
    "        raise ValueError(\"input #%s is not in #RRGGBB format\" % colorstring)\n",
    "    r, g, b = colorstring[:2], colorstring[2:4], colorstring[4:]\n",
    "    r, g, b = [int(n, 16) for n in (r, g, b)]\n",
    "    return (r, g, b)\n",
    "\n",
    "def color_interp(color1,color2,v,m=0,M=1):\n",
    "    c1 = array(HTMLColorToRGB(color1))\n",
    "    c2 = array(HTMLColorToRGB(color2))\n",
    "    if v > M:\n",
    "        c = tuple(c2)\n",
    "    elif v <= m:\n",
    "        c = tuple(c1)\n",
    "    else:\n",
    "        c = tuple( c1 + (c2-c1)/(M-m)*(v-m) ) # linear interpolation of color\n",
    "        #c = tuple( rint( c1 + (c2-c1)*(1 - exp(-2*(v-m)/(M-m))) ) ) # logistic interpolation of color\n",
    "        c = (int(c[0]),int(c[1]),int(c[2]))\n",
    "    return RGBToHTMLColor(c)\n",
    "\n",
    "def color_by_value(d3,G,x,color1='#FFFFFF',color2='#F57878'):  #color1='#77BEF5'\n",
    "    interactive = d3.interactive\n",
    "    d3.set_interactive(False)\n",
    "    m = 0\n",
    "    M = 1#0.5\n",
    "    for n in G.nodes():\n",
    "        d3.stylize_node(n, d3nx.node_style(size=5,stroke='#494949',fill=color_interp(color1,color2,x[G.node_index(n)],m,M)))\n",
    "    d3.update()\n",
    "    d3.set_interactive(interactive)"
   ]
  },
  {
   "cell_type": "markdown",
   "metadata": {},
   "source": [
    "## Load the network"
   ]
  },
  {
   "cell_type": "code",
   "execution_count": 9,
   "metadata": {},
   "outputs": [],
   "source": [
    "network = 'dolphins'\n",
    "#network = 'train'\n",
    "#network = 'macaque'\n",
    "\n",
    "G = D3Graph( nx.read_weighted_edgelist(network+'.edgelist',create_using=nx.Graph) )\n",
    "\n",
    "A = array(nx.adjacency_matrix(G).todense().T)\n",
    "N = G.number_of_nodes()"
   ]
  },
  {
   "cell_type": "code",
   "execution_count": 4,
   "metadata": {},
   "outputs": [
    {
     "name": "stdout",
     "output_type": "stream",
     "text": [
      "websocket server started..."
     ]
    },
    {
     "name": "stdout",
     "output_type": "stream",
     "text": [
      "networkx connected..."
     ]
    }
   ],
   "source": [
    "d3 = await d3nx.create_d3nx_visualizer(interactive=False,\n",
    "                                       node_dstyle=d3nx.node_style(size=5,fill='#FFFFFF',stroke='#494949'),\n",
    "                                       edge_dstyle=d3nx.edge_style(stroke_width=1.25))"
   ]
  },
  {
   "cell_type": "code",
   "execution_count": 5,
   "metadata": {},
   "outputs": [
    {
     "data": {
      "text/plain": [
       "7685"
      ]
     },
     "execution_count": 5,
     "metadata": {},
     "output_type": "execute_result"
    },
    {
     "name": "stdout",
     "output_type": "stream",
     "text": [
      "visualizer connected..."
     ]
    }
   ],
   "source": [
    "d3.port"
   ]
  },
  {
   "cell_type": "code",
   "execution_count": 6,
   "metadata": {},
   "outputs": [],
   "source": [
    "d3.clear()\n",
    "d3.set_graph(G)\n",
    "d3.update()\n",
    "d3.set_interactive(True)"
   ]
  },
  {
   "cell_type": "markdown",
   "metadata": {},
   "source": [
    "## Diffusion"
   ]
  },
  {
   "cell_type": "code",
   "execution_count": 18,
   "metadata": {},
   "outputs": [],
   "source": [
    "dt = 0.02 # the \"infinitesimal\" size steps we take to integrate\n",
    "T = 6 # the end of the simulation time\n",
    "time = linspace(0,T,int(T/dt)) # the array of time points spaced by dt"
   ]
  },
  {
   "cell_type": "markdown",
   "metadata": {},
   "source": [
    "Simulating diffusion..."
   ]
  },
  {
   "cell_type": "code",
   "execution_count": 86,
   "metadata": {},
   "outputs": [],
   "source": [
    "x = zeros(N)\n",
    "x[0] = 1\n",
    "color_by_value(d3,G,x)\n",
    "C=1 # C is the diffusion constant\n",
    "\n",
    "def dxdt(A, x, C):\n",
    "    dx_nodes = zeros(N)\n",
    "    for i in range(N):\n",
    "        xi_sum = []\n",
    "        for j in range(N):\n",
    "            xi_one = A[j,i] * (x[j] - x[i])\n",
    "            xi_sum.append(xi_one)\n",
    "        dx_nodes[i] = C * sum(xi_sum)\n",
    "    return dx_nodes\n",
    "\n",
    "for i,t in enumerate(time):\n",
    "    x += dt*dxdt(A,x,C)\n",
    "    color_by_value(d3,G,x*100)  # update the visualizer\n",
    "    await asyncio.sleep(0.1) # wait a little bit so the visualizer has time to update\n"
   ]
  },
  {
   "attachments": {},
   "cell_type": "markdown",
   "metadata": {},
   "source": [
    "### Make a comment about this:\n",
    "\n",
    "When I used different diffusion constant `C`, the speed of diffusion will be different from x[0] node to all other nodes. If the `C` is 1, the diffusion time from one node to the whole network is 8 sec. However, if `C` is 10, the diffusion time is only 1.5 sec. "
   ]
  },
  {
   "attachments": {},
   "cell_type": "markdown",
   "metadata": {},
   "source": [
    "### Make a plot of distance between state x and equilibrium\n",
    "\n",
    "when time gets large, the equilibrium was related to the eigenvectors of the Laplacian matrix. reuse code from centrality to calculate the eigenvectors of the module."
   ]
  },
  {
   "cell_type": "code",
   "execution_count": null,
   "metadata": {},
   "outputs": [],
   "source": [
    "# calculate the eigenvector of the network\n",
    "eigencentrality_vector = [i for i in nx.eigenvector_centrality(G).values()]"
   ]
  },
  {
   "cell_type": "code",
   "execution_count": null,
   "metadata": {},
   "outputs": [],
   "source": [
    "plt.figure()\n",
    "plt.plot(time,) # replace xvalue and yvalue with what you want to plot\n",
    "plt.xlabel('t')\n",
    "plt.ylabel('y axis label') # change this label\n",
    "plt.show()"
   ]
  },
  {
   "cell_type": "markdown",
   "metadata": {},
   "source": [
    "## SI Model"
   ]
  },
  {
   "attachments": {},
   "cell_type": "markdown",
   "metadata": {},
   "source": [
    "Simulating SI model...  \n",
    "Make a plot of the expected fraction of infected people over time using a SI infection model.  \n",
    "Ajust to see how it effects the evolution\n"
   ]
  },
  {
   "cell_type": "code",
   "execution_count": 47,
   "metadata": {},
   "outputs": [
    {
     "data": {
      "image/png": "[encoded data removed]",
      "text/plain": [
       "<Figure size 640x480 with 1 Axes>"
      ]
     },
     "metadata": {},
     "output_type": "display_data"
    }
   ],
   "source": [
    "# calculate the SI model for the network\n",
    "beta = 0.1\n",
    "# x is the fraction of infected nodes\n",
    "# 1-x is the fraction of susceptible nodes\n",
    "\n",
    "x = ones(N)*0.1\n",
    "s = 1- x\n",
    "\n",
    "history_S = []\n",
    "history_I = []\n",
    "for i,t in enumerate(time):\n",
    "    for xi in range(N):\n",
    "        neighbours_list = [xj for xj in where(A[:,xi]>0)]\n",
    "        si = 1 - x[xi]\n",
    "        dxidt = sum([beta * si * A[xj, xi] for xj in neighbours_list])\n",
    "        x[xi] += dxidt*dt\n",
    "        s[xi] = 1 - x[xi]\n",
    "    history_S.append(size(where(s>0.5)))\n",
    "    history_I.append(size(where(x>0.5)))\n",
    "\n",
    "\n",
    "plt.plot(time, history_I, label = 'Infected')\n",
    "plt.plot(time, history_S, label = 'Susceptible')\n",
    "plt.xlabel('t')\n",
    "plt.ylabel('Number of nodes')\n",
    "plt.title('SI model for the network')\n",
    "plt.legend()\n",
    "plt.show()"
   ]
  },
  {
   "cell_type": "markdown",
   "metadata": {},
   "source": [
    "## SIR Model"
   ]
  },
  {
   "attachments": {},
   "cell_type": "markdown",
   "metadata": {},
   "source": [
    "Simulating SIR model...  \n",
    "plot \n",
    "describe and explain the effect. "
   ]
  },
  {
   "cell_type": "code",
   "execution_count": 52,
   "metadata": {},
   "outputs": [
    {
     "data": {
      "image/png": "[encoded data removed]",
      "text/plain": [
       "<Figure size 640x480 with 1 Axes>"
      ]
     },
     "metadata": {},
     "output_type": "display_data"
    }
   ],
   "source": [
    "# calculate the SIR model for the network\n",
    "beta = 0.1\n",
    "gamma = 0.2\n",
    "# x is the fraction of infected nodes\n",
    "# 1-x is the fraction of susceptible nodes\n",
    "\n",
    "x = ones(N)*0.1\n",
    "s = 1- x\n",
    "r = gamma * x\n",
    "\n",
    "history_S = []\n",
    "history_I = []\n",
    "history_R = []\n",
    "for i,t in enumerate(time):\n",
    "    for xi in range(N):\n",
    "        neighbours_list = [xj for xj in where(A[:,xi]>0)]\n",
    "        si = 1 - x[xi]\n",
    "        dxidt = sum([beta * si * A[xj, xi] for xj in neighbours_list]) - gamma * x[xi]\n",
    "        x[xi] += dxidt*dt\n",
    "        s[xi] = 1 - x[xi]\n",
    "        r[xi] += gamma * x[xi]*dt\n",
    "    history_S.append(size(where(s>0.5)))\n",
    "    history_I.append(size(where(x>0.5)))\n",
    "    history_R.append(size(where(r>0.5)))\n",
    "\n",
    "\n",
    "plt.plot(time, history_I, label = 'Infected')\n",
    "plt.plot(time, history_S, label = 'Susceptible')\n",
    "plt.plot(time, history_R, label = 'Recovered')\n",
    "plt.xlabel('t')\n",
    "plt.ylabel('Number of nodes')\n",
    "plt.title('SIR model for the network')\n",
    "plt.legend()\n",
    "plt.show()"
   ]
  },
  {
   "cell_type": "markdown",
   "metadata": {},
   "source": [
    "## Independent Cascade"
   ]
  },
  {
   "cell_type": "markdown",
   "metadata": {},
   "source": [
    "The following function implements an influence cascade model on the graph `G` and initial active node set `x` with the same probability `p` to activate a neighbor node along each edge."
   ]
  },
  {
   "cell_type": "code",
   "execution_count": null,
   "metadata": {},
   "outputs": [],
   "source": [
    "# G: Graph\n",
    "# p: uniform probability to activate across an edge\n",
    "# x: initial active seed set (as a list/array)\n",
    "def influence_cascade(G,p,x):\n",
    "    G = deepcopy(G)\n",
    "    x = deepcopy(x)\n",
    "    activated_nodes = set([])\n",
    "    for i,xi in enumerate(x):\n",
    "        if xi > 0:\n",
    "            activated_nodes.add(G.node_by_index(i))\n",
    "\n",
    "    while len(activated_nodes) > 0:\n",
    "        newly_activated = set([])\n",
    "        for u in activated_nodes:\n",
    "            x[G.node_index(u)] = 1\n",
    "            nbrs = G.neighbors(u)\n",
    "            to_rm = set([])\n",
    "            for v in nbrs:\n",
    "                if random.random() <= p:\n",
    "                    newly_activated.add(v)\n",
    "                to_rm.add((u,v))\n",
    "            G.remove_edges_from(to_rm)\n",
    "        activated_nodes = newly_activated\n",
    "        #print sum(x)\n",
    "    return x"
   ]
  },
  {
   "cell_type": "markdown",
   "metadata": {},
   "source": [
    "Repeating the influence cascade many times..."
   ]
  },
  {
   "cell_type": "code",
   "execution_count": null,
   "metadata": {},
   "outputs": [],
   "source": []
  },
  {
   "cell_type": "markdown",
   "metadata": {},
   "source": [
    "Using a percolation approach..."
   ]
  },
  {
   "cell_type": "code",
   "execution_count": null,
   "metadata": {},
   "outputs": [],
   "source": []
  }
 ],
 "metadata": {
  "kernelspec": {
   "display_name": "Python 3",
   "language": "python",
   "name": "python3"
  },
  "language_info": {
   "codemirror_mode": {
    "name": "ipython",
    "version": 3
   },
   "file_extension": ".py",
   "mimetype": "text/x-python",
   "name": "python",
   "nbconvert_exporter": "python",
   "pygments_lexer": "ipython3",
   "version": "3.10.9"
  }
 },
 "nbformat": 4,
 "nbformat_minor": 4
}
