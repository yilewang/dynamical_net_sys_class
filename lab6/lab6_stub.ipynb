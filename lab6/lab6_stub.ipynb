{
 "cells": [
  {
   "cell_type": "markdown",
   "metadata": {},
   "source": [
    "Name Name, abc123456"
   ]
  },
  {
   "cell_type": "code",
   "execution_count": null,
   "metadata": {},
   "outputs": [],
   "source": [
    "import networkx as nx\n",
    "import sys\n",
    "sys.path.append('../d3networkx/')\n",
    "import d3networkx as d3nx\n",
    "from d3graph import D3Graph, D3DiGraph\n",
    "from numpy import *\n",
    "from numpy.linalg import eig,norm\n",
    "import matplotlib.pyplot as plt\n",
    "plt.ioff()\n",
    "from time import time\n",
    "from copy import deepcopy\n",
    "import asyncio\n",
    "import colorsys"
   ]
  },
  {
   "cell_type": "markdown",
   "metadata": {},
   "source": [
    "The following functions assist in coloring nodes based on the value of the state at each node. You will only need to use `color_by_value` - the rest of the functions are helper functions that are used behind the scenes."
   ]
  },
  {
   "cell_type": "code",
   "execution_count": null,
   "metadata": {},
   "outputs": [],
   "source": [
    "def RGBToHTMLColor(rgb_tuple):\n",
    "    \"\"\" convert an (R, G, B) tuple to #RRGGBB \"\"\"\n",
    "    hexcolor = '#%02x%02x%02x' % rgb_tuple\n",
    "    # that's it! '%02x' means zero-padded, 2-digit hex values\n",
    "    return hexcolor\n",
    "\n",
    "def HTMLColorToRGB(colorstring):\n",
    "    \"\"\" convert #RRGGBB to an (R, G, B) tuple \"\"\"\n",
    "    colorstring = colorstring.strip()\n",
    "    if colorstring[0] == '#': colorstring = colorstring[1:]\n",
    "    if len(colorstring) != 6:\n",
    "        raise ValueError(\"input #%s is not in #RRGGBB format\" % colorstring)\n",
    "    r, g, b = colorstring[:2], colorstring[2:4], colorstring[4:]\n",
    "    r, g, b = [int(n, 16) for n in (r, g, b)]\n",
    "    return (r, g, b)\n",
    "\n",
    "def color_interp(color1,color2,v,m=0,M=1):\n",
    "    c1 = array(HTMLColorToRGB(color1))\n",
    "    c2 = array(HTMLColorToRGB(color2))\n",
    "    if v > M:\n",
    "        c = tuple(c2)\n",
    "    elif v <= m:\n",
    "        c = tuple(c1)\n",
    "    else:\n",
    "        c = tuple( c1 + (c2-c1)/(M-m)*(v-m) ) # linear interpolation of color\n",
    "        #c = tuple( rint( c1 + (c2-c1)*(1 - exp(-2*(v-m)/(M-m))) ) ) # logistic interpolation of color\n",
    "        c = (int(c[0]),int(c[1]),int(c[2]))\n",
    "    return RGBToHTMLColor(c)\n",
    "\n",
    "def color_by_value(d3,G,x,color1='#FFFFFF',color2='#F57878'):  #color1='#77BEF5'\n",
    "    interactive = d3.interactive\n",
    "    d3.set_interactive(False)\n",
    "    m = 0\n",
    "    M = 1#0.5\n",
    "    for n in G.nodes():\n",
    "        d3.stylize_node(n, d3nx.node_style(size=5,stroke='#494949',fill=color_interp(color1,color2,x[G.node_index(n)],m,M)))\n",
    "    d3.update()\n",
    "    d3.set_interactive(interactive)"
   ]
  },
  {
   "cell_type": "markdown",
   "metadata": {},
   "source": [
    "## Load the network"
   ]
  },
  {
   "cell_type": "code",
   "execution_count": null,
   "metadata": {},
   "outputs": [],
   "source": [
    "network = 'dolphins'\n",
    "#network = 'train'\n",
    "#network = 'macaque'\n",
    "\n",
    "G = D3Graph( nx.read_weighted_edgelist(network+'.edgelist',create_using=nx.Graph) )\n",
    "\n",
    "A = array(nx.adjacency_matrix(G).todense().T)\n",
    "N = G.number_of_nodes()"
   ]
  },
  {
   "cell_type": "code",
   "execution_count": null,
   "metadata": {},
   "outputs": [],
   "source": [
    "d3 = await d3nx.create_d3nx_visualizer(interactive=False,\n",
    "                                       node_dstyle=d3nx.node_style(size=5,fill='#FFFFFF',stroke='#494949'),\n",
    "                                       edge_dstyle=d3nx.edge_style(stroke_width=1.25))"
   ]
  },
  {
   "cell_type": "code",
   "execution_count": null,
   "metadata": {},
   "outputs": [],
   "source": [
    "d3.clear()\n",
    "d3.set_graph(G)\n",
    "d3.update()\n",
    "d3.set_interactive(True)"
   ]
  },
  {
   "cell_type": "markdown",
   "metadata": {},
   "source": [
    "## Diffusion"
   ]
  },
  {
   "cell_type": "code",
   "execution_count": null,
   "metadata": {},
   "outputs": [],
   "source": [
    "dt = 0.02 # the \"infinitesimal\" size steps we take to integrate\n",
    "T = 6 # the end of the simulation time\n",
    "time = linspace(0,T,int(T/dt)) # the array of time points spaced by dt"
   ]
  },
  {
   "cell_type": "markdown",
   "metadata": {},
   "source": [
    "Simulating diffusion..."
   ]
  },
  {
   "cell_type": "code",
   "execution_count": null,
   "metadata": {},
   "outputs": [],
   "source": [
    "x = zeros(N)\n",
    "x[0] = 1\n",
    "color_by_value(d3,G,x)\n",
    "\n",
    "for i,t in enumerate(time):\n",
    "    # at each time step update the value of x!\n",
    "    \n",
    "    color_by_value(d3,G,x)  # update the visualizer\n",
    "    await asyncio.sleep(0.1) # wait a little bit so the visualizer has time to update"
   ]
  },
  {
   "cell_type": "code",
   "execution_count": null,
   "metadata": {},
   "outputs": [],
   "source": [
    "plt.figure()\n",
    "plt.plot(xvalue,yvalue) # replace xvalue and yvalue with what you want to plot\n",
    "plt.xlabel('t')\n",
    "plt.ylabel('y axis label') # change this label\n",
    "plt.show()"
   ]
  },
  {
   "cell_type": "markdown",
   "metadata": {},
   "source": [
    "## SI Model"
   ]
  },
  {
   "cell_type": "markdown",
   "metadata": {},
   "source": [
    "Simulating SI model..."
   ]
  },
  {
   "cell_type": "code",
   "execution_count": null,
   "metadata": {},
   "outputs": [],
   "source": []
  },
  {
   "cell_type": "markdown",
   "metadata": {},
   "source": [
    "## SIR Model"
   ]
  },
  {
   "cell_type": "markdown",
   "metadata": {},
   "source": [
    "Simulating SIR model..."
   ]
  },
  {
   "cell_type": "code",
   "execution_count": null,
   "metadata": {},
   "outputs": [],
   "source": []
  },
  {
   "cell_type": "markdown",
   "metadata": {},
   "source": [
    "## Independent Cascade"
   ]
  },
  {
   "cell_type": "markdown",
   "metadata": {},
   "source": [
    "The following function implements an influence cascade model on the graph `G` and initial active node set `x` with the same probability `p` to activate a neighbor node along each edge."
   ]
  },
  {
   "cell_type": "code",
   "execution_count": null,
   "metadata": {},
   "outputs": [],
   "source": [
    "# G: Graph\n",
    "# p: uniform probability to activate across an edge\n",
    "# x: initial active seed set (as a list/array)\n",
    "def influence_cascade(G,p,x):\n",
    "    G = deepcopy(G)\n",
    "    x = deepcopy(x)\n",
    "    activated_nodes = set([])\n",
    "    for i,xi in enumerate(x):\n",
    "        if xi > 0:\n",
    "            activated_nodes.add(G.node_by_index(i))\n",
    "\n",
    "    while len(activated_nodes) > 0:\n",
    "        newly_activated = set([])\n",
    "        for u in activated_nodes:\n",
    "            x[G.node_index(u)] = 1\n",
    "            nbrs = G.neighbors(u)\n",
    "            to_rm = set([])\n",
    "            for v in nbrs:\n",
    "                if random.random() <= p:\n",
    "                    newly_activated.add(v)\n",
    "                to_rm.add((u,v))\n",
    "            G.remove_edges_from(to_rm)\n",
    "        activated_nodes = newly_activated\n",
    "        #print sum(x)\n",
    "    return x"
   ]
  },
  {
   "cell_type": "markdown",
   "metadata": {},
   "source": [
    "Repeating the influence cascade many times..."
   ]
  },
  {
   "cell_type": "code",
   "execution_count": null,
   "metadata": {},
   "outputs": [],
   "source": []
  },
  {
   "cell_type": "markdown",
   "metadata": {},
   "source": [
    "Using a percolation approach..."
   ]
  },
  {
   "cell_type": "code",
   "execution_count": null,
   "metadata": {},
   "outputs": [],
   "source": []
  }
 ],
 "metadata": {
  "kernelspec": {
   "display_name": "Python 3",
   "language": "python",
   "name": "python3"
  },
  "language_info": {
   "codemirror_mode": {
    "name": "ipython",
    "version": 3
   },
   "file_extension": ".py",
   "mimetype": "text/x-python",
   "name": "python",
   "nbconvert_exporter": "python",
   "pygments_lexer": "ipython3",
   "version": "3.8.5"
  }
 },
 "nbformat": 4,
 "nbformat_minor": 4
}
